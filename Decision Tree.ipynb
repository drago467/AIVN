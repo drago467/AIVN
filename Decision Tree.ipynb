{
  "nbformat": 4,
  "nbformat_minor": 0,
  "metadata": {
    "colab": {
      "provenance": [],
      "authorship_tag": "ABX9TyO7btf5DTNiaVeKFUC/zubZ",
      "include_colab_link": true
    },
    "kernelspec": {
      "name": "python3",
      "display_name": "Python 3"
    },
    "language_info": {
      "name": "python"
    }
  },
  "cells": [
    {
      "cell_type": "markdown",
      "metadata": {
        "id": "view-in-github",
        "colab_type": "text"
      },
      "source": [
        "<a href=\"https://colab.research.google.com/github/drago467/AIVN/blob/master/Decision%20Tree.ipynb\" target=\"_parent\"><img src=\"https://colab.research.google.com/assets/colab-badge.svg\" alt=\"Open In Colab\"/></a>"
      ]
    },
    {
      "cell_type": "code",
      "source": [
        "def compute_gini(dataset):\n",
        "  p_sum = 0\n",
        "  number_of_element = len(dataset)\n",
        "  for i in dataset:\n",
        "    p_i = (frequency(dataset, i) / number_of_element)\n",
        "    p_sum += p_i**2\n",
        "  gini = 1 - p_sum\n",
        "  return gini"
      ],
      "metadata": {
        "id": "vWNC0AJg70IV"
      },
      "execution_count": 6,
      "outputs": []
    },
    {
      "cell_type": "code",
      "source": [
        "def frequency(dataset, element):\n",
        "  count = 0\n",
        "  for i in dataset:\n",
        "    if i == element:\n",
        "      count += 1\n",
        "  return count"
      ],
      "metadata": {
        "id": "ojq7oC3A8hfB"
      },
      "execution_count": 7,
      "outputs": []
    },
    {
      "cell_type": "code",
      "source": [
        "dataset = [1, 2, 4, 6, 7]"
      ],
      "metadata": {
        "id": "ASxI2Gml8yBf"
      },
      "execution_count": 10,
      "outputs": []
    },
    {
      "cell_type": "code",
      "source": [
        "gini_value = compute_gini(dataset)\n",
        "print(gini_value)"
      ],
      "metadata": {
        "colab": {
          "base_uri": "https://localhost:8080/"
        },
        "id": "0ttwZTms84Qz",
        "outputId": "c0e8bd8d-887e-4bd4-a424-61dce9fd6561"
      },
      "execution_count": 11,
      "outputs": [
        {
          "output_type": "stream",
          "name": "stdout",
          "text": [
            "0.7999999999999999\n"
          ]
        }
      ]
    },
    {
      "cell_type": "code",
      "source": [
        "import pandas as pd"
      ],
      "metadata": {
        "id": "a5LMyv379Ccw"
      },
      "execution_count": 12,
      "outputs": []
    },
    {
      "cell_type": "code",
      "source": [
        "# Defining a simple dataset\n",
        "attribute_names = ['love_math', 'love_art', 'love_english']\n",
        "\n",
        "class_name = 'love_ai'\n",
        "\n",
        "data = {\n",
        "    'love_math': ['yes', 'yes', 'no', 'no', 'yes', 'yes', 'no'],\n",
        "    'love_art': ['yes', 'no', 'yes', 'yes', 'yes', 'no', 'no'],\n",
        "    'love_english': ['no', 'no', 'yes', 'yes', 'yes', 'yes', 'yes'],\n",
        "    'love_ai': ['no', 'no', 'yes', 'yes', 'yes', 'no', 'no']\n",
        "}\n",
        "\n",
        "df = pd.DataFrame(data, columns = data.keys())\n",
        "print(df)"
      ],
      "metadata": {
        "colab": {
          "base_uri": "https://localhost:8080/"
        },
        "id": "93meL-6h-VPA",
        "outputId": "f6e86965-6eff-407f-8bfa-d663b3ab5c8e"
      },
      "execution_count": 13,
      "outputs": [
        {
          "output_type": "stream",
          "name": "stdout",
          "text": [
            "  love_math love_art love_english love_ai\n",
            "0       yes      yes           no      no\n",
            "1       yes       no           no      no\n",
            "2        no      yes          yes     yes\n",
            "3        no      yes          yes     yes\n",
            "4       yes      yes          yes     yes\n",
            "5       yes       no          yes      no\n",
            "6        no       no          yes      no\n"
          ]
        }
      ]
    },
    {
      "cell_type": "code",
      "source": [
        "class_value_counts = df[class_name].value_counts()\n",
        "print(class_value_counts)"
      ],
      "metadata": {
        "colab": {
          "base_uri": "https://localhost:8080/"
        },
        "id": "czFMitzu_7b9",
        "outputId": "6b26578c-2079-4cd3-a40f-127be40dd12d"
      },
      "execution_count": 14,
      "outputs": [
        {
          "output_type": "stream",
          "name": "stdout",
          "text": [
            "no     4\n",
            "yes    3\n",
            "Name: love_ai, dtype: int64\n"
          ]
        }
      ]
    },
    {
      "cell_type": "code",
      "source": [
        "def gini_impurity(class_value_counts):\n",
        "  n = class_value_counts.sum()\n",
        "  p_sum = 0\n",
        "  for key in class_value_counts.keys():\n",
        "    p_sum = p_sum + (class_value_counts[key]/n)**2\n",
        "  gini = 1 - p_sum\n",
        "  return gini"
      ],
      "metadata": {
        "id": "8VRkuG3wA7zu"
      },
      "execution_count": 15,
      "outputs": []
    },
    {
      "cell_type": "code",
      "source": [
        "gini_love_ai = gini_impurity(class_value_counts)\n",
        "print(gini_love_ai)"
      ],
      "metadata": {
        "colab": {
          "base_uri": "https://localhost:8080/"
        },
        "id": "-rLkX65CCSYc",
        "outputId": "51537e2c-8603-4c88-9216-6f859563a4e2"
      },
      "execution_count": 16,
      "outputs": [
        {
          "output_type": "stream",
          "name": "stdout",
          "text": [
            "0.48979591836734704\n"
          ]
        }
      ]
    },
    {
      "cell_type": "code",
      "source": [
        "def compute_gini_with_given_condition(attribute_name):\n",
        "  attribute_values = df[attribute_name].value_counts()\n",
        "\n",
        "  n = df.shape[0]\n",
        "  gini_total = 0\n",
        "  for key in attribute_values.keys():\n",
        "    df_k = df[class_name][df[attribute_name] == key].value_counts()\n",
        "    n_k = attribute_values[key]\n",
        "    gini_total = gini_total + (n_k / n) * gini_impurity(df_k)\n",
        "  return gini_total"
      ],
      "metadata": {
        "id": "vCKVGKaICcry"
      },
      "execution_count": 18,
      "outputs": []
    },
    {
      "cell_type": "code",
      "source": [
        "gini_love_math = compute_gini_with_given_condition('love_math')\n",
        "\n",
        "gini_love_art = compute_gini_with_given_condition('love_art')\n",
        "\n",
        "gini_love_english = compute_gini_with_given_condition('love_english')"
      ],
      "metadata": {
        "id": "iBFd7VFtUuXi"
      },
      "execution_count": 21,
      "outputs": []
    },
    {
      "cell_type": "code",
      "source": [],
      "metadata": {
        "colab": {
          "base_uri": "https://localhost:8080/"
        },
        "id": "Z6TXFAZwVR-q",
        "outputId": "1e44f803-dea0-4485-e9bd-bf77fa9be96a"
      },
      "execution_count": 20,
      "outputs": [
        {
          "output_type": "execute_result",
          "data": {
            "text/plain": [
              "0.40476190476190477"
            ]
          },
          "metadata": {},
          "execution_count": 20
        }
      ]
    },
    {
      "cell_type": "code",
      "source": [],
      "metadata": {
        "id": "UYTbuC-uVT4T"
      },
      "execution_count": null,
      "outputs": []
    }
  ]
}