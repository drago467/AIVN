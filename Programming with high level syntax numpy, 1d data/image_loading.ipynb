{
  "cells": [
    {
      "cell_type": "markdown",
      "metadata": {
        "id": "view-in-github",
        "colab_type": "text"
      },
      "source": [
        "<a href=\"https://colab.research.google.com/github/drago467/AIVN/blob/master/Programming%20with%20high%20level%20syntax%20numpy%2C%201d%20data/image_loading.ipynb\" target=\"_parent\"><img src=\"https://colab.research.google.com/assets/colab-badge.svg\" alt=\"Open In Colab\"/></a>"
      ]
    },
    {
      "cell_type": "markdown",
      "metadata": {
        "id": "zeoM8RkJkY7H"
      },
      "source": [
        "### get file paths"
      ]
    },
    {
      "cell_type": "code",
      "execution_count": null,
      "metadata": {
        "id": "52Ir_pa1kY7J",
        "outputId": "3fa29330-a387-4b21-897f-2ea23aa75d1d"
      },
      "outputs": [
        {
          "name": "stdout",
          "output_type": "stream",
          "text": [
            "samples/cat.5.jpg\n",
            "samples/cat.4.jpg\n",
            "samples/cat.0.jpg\n",
            "samples/dog.7866.jpg\n",
            "samples/cat.1.jpg\n",
            "samples/cat.3.jpg\n",
            "samples/dog.7864.jpg\n",
            "samples/dog.7865.jpg\n",
            "samples/cat.2.jpg\n"
          ]
        }
      ],
      "source": [
        "import glob\n",
        "\n",
        "file_paths = glob.glob('samples/*jpg')\n",
        "\n",
        "# print paths\n",
        "for path in file_paths:\n",
        "    print(path)"
      ]
    },
    {
      "cell_type": "code",
      "execution_count": null,
      "metadata": {
        "id": "625Mpz7VkY7J"
      },
      "outputs": [],
      "source": []
    },
    {
      "cell_type": "markdown",
      "metadata": {
        "id": "P28zhBVZkY7K"
      },
      "source": [
        "### Load images (samples folder)"
      ]
    },
    {
      "cell_type": "code",
      "execution_count": null,
      "metadata": {
        "id": "OlcilECmkY7K",
        "outputId": "cebbb7b4-2696-4fc6-c9e6-db7bc8766654"
      },
      "outputs": [
        {
          "name": "stdout",
          "output_type": "stream",
          "text": [
            "samples/cat.5.jpg (144, 175, 3)\n",
            "samples/cat.4.jpg (375, 499, 3)\n",
            "samples/cat.0.jpg (374, 500, 3)\n",
            "samples/dog.7866.jpg (500, 435, 3)\n",
            "samples/cat.1.jpg (280, 300, 3)\n",
            "samples/cat.3.jpg (414, 500, 3)\n",
            "samples/dog.7864.jpg (281, 359, 3)\n",
            "samples/dog.7865.jpg (332, 499, 3)\n",
            "samples/cat.2.jpg (396, 312, 3)\n"
          ]
        }
      ],
      "source": [
        "import glob\n",
        "import cv2\n",
        "\n",
        "file_paths = glob.glob('samples/*jpg')\n",
        "\n",
        "# read and resize images\n",
        "for path in file_paths:\n",
        "    img = cv2.imread(path, 1)\n",
        "    print(path, img.shape)"
      ]
    },
    {
      "cell_type": "code",
      "execution_count": null,
      "metadata": {
        "id": "GkS2DuVTkY7K"
      },
      "outputs": [],
      "source": []
    },
    {
      "cell_type": "code",
      "execution_count": null,
      "metadata": {
        "id": "nY5NwVelkY7K",
        "outputId": "f65a32a4-1e97-4052-f6d0-ebc8f8cf4c7d"
      },
      "outputs": [
        {
          "name": "stdout",
          "output_type": "stream",
          "text": [
            "samples/cat.5.jpg (50, 50, 3)\n",
            "samples/cat.4.jpg (50, 50, 3)\n",
            "samples/cat.0.jpg (50, 50, 3)\n",
            "samples/dog.7866.jpg (50, 50, 3)\n",
            "samples/cat.1.jpg (50, 50, 3)\n",
            "samples/cat.3.jpg (50, 50, 3)\n",
            "samples/dog.7864.jpg (50, 50, 3)\n",
            "samples/dog.7865.jpg (50, 50, 3)\n",
            "samples/cat.2.jpg (50, 50, 3)\n"
          ]
        }
      ],
      "source": [
        "import glob\n",
        "import cv2\n",
        "\n",
        "file_paths = glob.glob('samples/*jpg')\n",
        "\n",
        "# read and resize images\n",
        "for path in file_paths:\n",
        "    img = cv2.imread(path, 1)\n",
        "    img = cv2.resize(img, (50, 50))\n",
        "    print(path, img.shape)"
      ]
    },
    {
      "cell_type": "code",
      "execution_count": null,
      "metadata": {
        "id": "i0nPVDW-kY7K"
      },
      "outputs": [],
      "source": []
    },
    {
      "cell_type": "code",
      "execution_count": null,
      "metadata": {
        "id": "lbQRQyikkY7K",
        "outputId": "50053e33-222f-443d-b2e7-d8c5ee641807"
      },
      "outputs": [
        {
          "name": "stdout",
          "output_type": "stream",
          "text": [
            "9\n"
          ]
        }
      ],
      "source": [
        "import glob\n",
        "import cv2\n",
        "\n",
        "file_paths = glob.glob('samples/*jpg')\n",
        "\n",
        "# read and resize images\n",
        "images = []\n",
        "for path in file_paths:\n",
        "    img = cv2.imread(path, 1)\n",
        "    img = cv2.resize(img, (50, 50))\n",
        "\n",
        "    # add to list\n",
        "    images.append(img)\n",
        "\n",
        "# test (images is a list)\n",
        "print(len(images))"
      ]
    },
    {
      "cell_type": "code",
      "execution_count": null,
      "metadata": {
        "id": "8NIo6BUdkY7K",
        "outputId": "74797b80-282d-4e39-9f97-e097afada261"
      },
      "outputs": [
        {
          "name": "stdout",
          "output_type": "stream",
          "text": [
            "(2, 2, 2)\n",
            "[[0 1]\n",
            " [2 3]]\n",
            "[[0 1]\n",
            " [2 3]]\n"
          ]
        }
      ],
      "source": [
        "import numpy as np\n",
        "arr1 = np.arange(4).reshape(2,2)\n",
        "arr2 = np.arange(4).reshape(2,2)\n",
        "data = [arr1, arr2]\n",
        "data = np.array(data)\n",
        "print(data.shape)\n",
        "print(data[0])\n",
        "print(data[1])\n"
      ]
    },
    {
      "cell_type": "code",
      "execution_count": null,
      "metadata": {
        "id": "Qzbr2_JEkY7L"
      },
      "outputs": [],
      "source": []
    },
    {
      "cell_type": "code",
      "execution_count": null,
      "metadata": {
        "id": "5A2SmFlCkY7L",
        "outputId": "4df5731d-59b7-4363-a313-c275c962762e"
      },
      "outputs": [
        {
          "name": "stdout",
          "output_type": "stream",
          "text": [
            "(9, 200, 200, 3)\n"
          ]
        }
      ],
      "source": [
        "import glob\n",
        "import cv2\n",
        "import numpy as np\n",
        "\n",
        "file_paths = glob.glob('samples/*jpg')\n",
        "\n",
        "# read and resize images\n",
        "images = []\n",
        "for path in file_paths:\n",
        "    img = cv2.imread(path, 1)\n",
        "    img = cv2.resize(img, (50, 50))\n",
        "\n",
        "    # add to list\n",
        "    images.append(img)\n",
        "\n",
        "# convert list to numpy array\n",
        "images = np.array(images)\n",
        "\n",
        "# test (images is an array)\n",
        "print(images.shape)"
      ]
    },
    {
      "cell_type": "code",
      "execution_count": null,
      "metadata": {
        "id": "CdmMY1cvkY7L",
        "outputId": "959058b9-1ec0-4c0c-9d71-2246b7a41914"
      },
      "outputs": [
        {
          "data": {
            "image/png": "[encoded data removed]",
            "text/plain": [
              "<Figure size 400x200 with 1 Axes>"
            ]
          },
          "metadata": {},
          "output_type": "display_data"
        }
      ],
      "source": [
        "import matplotlib.pyplot as plt\n",
        "\n",
        "an_image = images[1]\n",
        "an_image = cv2.cvtColor(an_image,\n",
        "                        cv2.COLOR_BGR2RGB)\n",
        "plt.imshow(an_image)"
      ]
    },
    {
      "cell_type": "code",
      "execution_count": null,
      "metadata": {
        "id": "b3GLjtT-kY7L"
      },
      "outputs": [],
      "source": [
        "import matplotlib.pyplot as plt\n",
        "\n",
        "an_image = images[1]\n",
        "an_image = cv2.cvtColor(an_image,\n",
        "                        cv2.COLOR_BGR2RGB)\n",
        "plt.figure(figsize=(4, 2))\n",
        "plt.imshow(an_image)\n",
        "plt.axis('off')\n",
        "plt.show()"
      ]
    },
    {
      "cell_type": "code",
      "execution_count": null,
      "metadata": {
        "id": "KBccHFkckY7L"
      },
      "outputs": [],
      "source": []
    },
    {
      "cell_type": "markdown",
      "metadata": {
        "id": "3CpTTZFjkY7L"
      },
      "source": [
        "### load image"
      ]
    },
    {
      "cell_type": "code",
      "execution_count": null,
      "metadata": {
        "id": "AF5cv_QgkY7L",
        "outputId": "143f2546-fffb-4ef0-f43d-3c1a9a35b038"
      },
      "outputs": [
        {
          "name": "stdout",
          "output_type": "stream",
          "text": [
            "(22000, 50, 50, 3)\n"
          ]
        }
      ],
      "source": [
        "import glob\n",
        "import cv2\n",
        "import numpy as np\n",
        "\n",
        "file_paths = glob.glob('train/*jpg')\n",
        "\n",
        "# read and resize images\n",
        "images = []\n",
        "for path in file_paths:\n",
        "    img = cv2.imread(path, 1)\n",
        "    img = cv2.resize(img, (50, 50))\n",
        "\n",
        "    # add to list\n",
        "    images.append(img)\n",
        "\n",
        "# convert list to numpy array\n",
        "images = np.array(images)\n",
        "\n",
        "# test (images is an array)\n",
        "print(images.shape)"
      ]
    },
    {
      "cell_type": "code",
      "execution_count": null,
      "metadata": {
        "id": "_S7DUFOdkY7L"
      },
      "outputs": [],
      "source": []
    },
    {
      "cell_type": "code",
      "execution_count": null,
      "metadata": {
        "id": "Mr97EtxQkY7L",
        "outputId": "101ccf8c-4dc6-407a-92e0-561b2cd6d534"
      },
      "outputs": [
        {
          "name": "stderr",
          "output_type": "stream",
          "text": [
            "100%|██████████| 22000/22000 [00:09<00:00, 2379.54it/s]"
          ]
        },
        {
          "name": "stdout",
          "output_type": "stream",
          "text": [
            "(22000, 50, 50, 3)\n"
          ]
        },
        {
          "name": "stderr",
          "output_type": "stream",
          "text": [
            "\n"
          ]
        }
      ],
      "source": [
        "# using\n",
        "\n",
        "import glob\n",
        "import cv2\n",
        "import numpy as np\n",
        "from tqdm import tqdm\n",
        "\n",
        "file_paths = glob.glob('train/*jpg')\n",
        "\n",
        "# read and resize images\n",
        "images = []\n",
        "for path in tqdm(file_paths):\n",
        "    img = cv2.imread(path, 1)\n",
        "    img = cv2.resize(img, (50, 50))\n",
        "\n",
        "    # add to list\n",
        "    images.append(img)\n",
        "\n",
        "# convert list to numpy array\n",
        "images = np.array(images)\n",
        "\n",
        "# test (images is an array)\n",
        "print(images.shape)"
      ]
    },
    {
      "cell_type": "code",
      "execution_count": null,
      "metadata": {
        "id": "YIhGJuHTkY7L"
      },
      "outputs": [],
      "source": []
    }
  ],
  "metadata": {
    "kernelspec": {
      "display_name": "Python 3 (ipykernel)",
      "language": "python",
      "name": "python3"
    },
    "language_info": {
      "codemirror_mode": {
        "name": "ipython",
        "version": 3
      },
      "file_extension": ".py",
      "mimetype": "text/x-python",
      "name": "python",
      "nbconvert_exporter": "python",
      "pygments_lexer": "ipython3",
      "version": "3.12.4"
    },
    "colab": {
      "provenance": [],
      "include_colab_link": true
    }
  },
  "nbformat": 4,
  "nbformat_minor": 0
}