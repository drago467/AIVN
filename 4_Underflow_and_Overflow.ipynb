{
  "cells": [
    {
      "cell_type": "markdown",
      "metadata": {
        "id": "view-in-github",
        "colab_type": "text"
      },
      "source": [
        "<a href=\"https://colab.research.google.com/github/drago467/AIVN/blob/master/4_Underflow_and_Overflow.ipynb\" target=\"_parent\"><img src=\"https://colab.research.google.com/assets/colab-badge.svg\" alt=\"Open In Colab\"/></a>"
      ]
    },
    {
      "cell_type": "code",
      "execution_count": null,
      "metadata": {
        "id": "qqQGWoOVrNx9",
        "outputId": "5d12c704-d505-4ce3-86eb-fe2e5cc8b9f4"
      },
      "outputs": [
        {
          "name": "stdout",
          "output_type": "stream",
          "text": [
            "1e-100\n"
          ]
        }
      ],
      "source": [
        "# aivietnam\n",
        "\n",
        "result = 1e-100\n",
        "print(result)"
      ]
    },
    {
      "cell_type": "code",
      "execution_count": null,
      "metadata": {
        "id": "sT_yqyNkrNyE",
        "outputId": "53bb2ee1-bc36-4708-8f63-7f5f40fa6550"
      },
      "outputs": [
        {
          "name": "stdout",
          "output_type": "stream",
          "text": [
            "0.0\n"
          ]
        }
      ],
      "source": [
        "# aivietnam\n",
        "\n",
        "result = 1e-1000\n",
        "print(result)"
      ]
    },
    {
      "cell_type": "code",
      "execution_count": null,
      "metadata": {
        "id": "FpFcX4ErrNyF",
        "outputId": "e389b238-b254-4b56-b329-0f872b00cfad"
      },
      "outputs": [
        {
          "name": "stdout",
          "output_type": "stream",
          "text": [
            "1e+100\n"
          ]
        }
      ],
      "source": [
        "# aivietnam\n",
        "\n",
        "result = 1e100\n",
        "print(result)"
      ]
    },
    {
      "cell_type": "code",
      "execution_count": null,
      "metadata": {
        "id": "iWNhQJeUrNyG",
        "outputId": "bde12865-cd67-4191-da7b-960656908faa"
      },
      "outputs": [
        {
          "name": "stdout",
          "output_type": "stream",
          "text": [
            "inf\n"
          ]
        }
      ],
      "source": [
        "# aivietnam\n",
        "\n",
        "result = 1e1000\n",
        "print(result)"
      ]
    },
    {
      "cell_type": "code",
      "execution_count": null,
      "metadata": {
        "id": "E47a_6g9rNyH"
      },
      "outputs": [],
      "source": []
    },
    {
      "cell_type": "code",
      "execution_count": null,
      "metadata": {
        "id": "XIuyDUU8rNyH"
      },
      "outputs": [],
      "source": [
        "# https://stats.stackexchange.com/questions/162988/why-sigmoid-function-instead-of-anything-else/318209#318209\n",
        "\n",
        "# https://datascience.stackexchange.com/questions/23159/in-softmax-classifier-why-use-exp-function-to-do-normalization\n",
        "\n",
        "# https://stackoverflow.com/questions/17187507/why-use-softmax-as-opposed-to-standard-normalization\n",
        "\n",
        "# https://intellipaat.com/community/1621/why-use-softmax-as-opposed-to-standard-normalization?fbclid=IwAR3V_lf3xSf_uD9FPBAZDm3SVV1vBJDg4AJY4yS6kGtA6FT-zYL68f2M4CM\n"
      ]
    },
    {
      "cell_type": "code",
      "execution_count": null,
      "metadata": {
        "id": "AicAmo6DrNyI"
      },
      "outputs": [],
      "source": []
    },
    {
      "cell_type": "code",
      "execution_count": null,
      "metadata": {
        "id": "9hLg0PnmrNyI",
        "outputId": "7992a541-0b2c-4c68-fb05-37303f2f6632"
      },
      "outputs": [
        {
          "name": "stdout",
          "output_type": "stream",
          "text": [
            "0.09003  0.24473   0.66524\n"
          ]
        }
      ],
      "source": [
        "import math\n",
        "\n",
        "# Given three values\n",
        "v1 = 1.0\n",
        "v2 = 2.0\n",
        "v3 = 3.0\n",
        "\n",
        "# compute softmax\n",
        "total = math.exp(v1) + math.exp(v2) + math.exp(v3)\n",
        "\n",
        "s1 = math.exp(v1)/total\n",
        "s2 = math.exp(v2)/total\n",
        "s3 = math.exp(v3)/total\n",
        "\n",
        "# print out\n",
        "print(f\"{s1:.5f}  {s2:.5f}   {s3:.5f}\")\n",
        ""
      ]
    },
    {
      "cell_type": "code",
      "execution_count": null,
      "metadata": {
        "id": "KPadI4lErNyJ"
      },
      "outputs": [],
      "source": []
    },
    {
      "cell_type": "code",
      "execution_count": null,
      "metadata": {
        "id": "HlNb2AJcrNyK",
        "outputId": "0d4e485e-653e-4208-ef7b-ea00bd236872"
      },
      "outputs": [
        {
          "ename": "OverflowError",
          "evalue": "math range error",
          "output_type": "error",
          "traceback": [
            "\u001b[1;31m---------------------------------------------------------------------------\u001b[0m",
            "\u001b[1;31mOverflowError\u001b[0m                             Traceback (most recent call last)",
            "\u001b[1;32mC:\\Users\\DINHVI~1\\AppData\\Local\\Temp/ipykernel_6404/1559505462.py\u001b[0m in \u001b[0;36m<module>\u001b[1;34m\u001b[0m\n\u001b[0;32m      7\u001b[0m \u001b[1;33m\u001b[0m\u001b[0m\n\u001b[0;32m      8\u001b[0m \u001b[1;31m# compute softmax\u001b[0m\u001b[1;33m\u001b[0m\u001b[1;33m\u001b[0m\u001b[0m\n\u001b[1;32m----> 9\u001b[1;33m \u001b[0mtotal\u001b[0m \u001b[1;33m=\u001b[0m \u001b[0mmath\u001b[0m\u001b[1;33m.\u001b[0m\u001b[0mexp\u001b[0m\u001b[1;33m(\u001b[0m\u001b[0mv1\u001b[0m\u001b[1;33m)\u001b[0m \u001b[1;33m+\u001b[0m \u001b[0mmath\u001b[0m\u001b[1;33m.\u001b[0m\u001b[0mexp\u001b[0m\u001b[1;33m(\u001b[0m\u001b[0mv2\u001b[0m\u001b[1;33m)\u001b[0m \u001b[1;33m+\u001b[0m \u001b[0mmath\u001b[0m\u001b[1;33m.\u001b[0m\u001b[0mexp\u001b[0m\u001b[1;33m(\u001b[0m\u001b[0mv3\u001b[0m\u001b[1;33m)\u001b[0m\u001b[1;33m\u001b[0m\u001b[1;33m\u001b[0m\u001b[0m\n\u001b[0m\u001b[0;32m     10\u001b[0m \u001b[1;33m\u001b[0m\u001b[0m\n\u001b[0;32m     11\u001b[0m \u001b[0ms1\u001b[0m \u001b[1;33m=\u001b[0m \u001b[0mmath\u001b[0m\u001b[1;33m.\u001b[0m\u001b[0mexp\u001b[0m\u001b[1;33m(\u001b[0m\u001b[0mv1\u001b[0m\u001b[1;33m)\u001b[0m\u001b[1;33m/\u001b[0m\u001b[0mtotal\u001b[0m\u001b[1;33m\u001b[0m\u001b[1;33m\u001b[0m\u001b[0m\n",
            "\u001b[1;31mOverflowError\u001b[0m: math range error"
          ]
        }
      ],
      "source": [
        "import math\n",
        "\n",
        "# Given three values\n",
        "v1 = 1001.0\n",
        "v2 = 1002.0\n",
        "v3 = 1003.0\n",
        "\n",
        "# compute softmax\n",
        "total = math.exp(v1) + math.exp(v2) + math.exp(v3)\n",
        "\n",
        "s1 = math.exp(v1)/total\n",
        "s2 = math.exp(v2)/total\n",
        "s3 = math.exp(v3)/total\n",
        "\n",
        "# print out\n",
        "print(f\"{s1:.5f}  {s2:.5f}   {s3:.5f}\")\n",
        ""
      ]
    },
    {
      "cell_type": "code",
      "execution_count": null,
      "metadata": {
        "id": "JffHt_THrNyK"
      },
      "outputs": [],
      "source": []
    },
    {
      "cell_type": "code",
      "execution_count": null,
      "metadata": {
        "id": "IynHToW9rNyK",
        "outputId": "13db03db-5c74-4184-d99d-1bcfdc41d9bf"
      },
      "outputs": [
        {
          "name": "stdout",
          "output_type": "stream",
          "text": [
            "0.09003  0.24473   0.66524\n"
          ]
        }
      ],
      "source": [
        "import math\n",
        "\n",
        "# Given three values\n",
        "v1 = 1.0\n",
        "v2 = 2.0\n",
        "v3 = 3.0\n",
        "\n",
        "# get max\n",
        "max_value = v3\n",
        "\n",
        "# compute stable softmax\n",
        "e_v1 = math.exp(v1 - max_value)\n",
        "e_v2 = math.exp(v2 - max_value)\n",
        "e_v3 = math.exp(v3 - max_value)\n",
        "\n",
        "total = e_v1 + e_v2 + e_v3\n",
        "\n",
        "s1 = e_v1/total\n",
        "s2 = e_v2/total\n",
        "s3 = e_v3/total\n",
        "\n",
        "# print out\n",
        "print(f\"{s1:.5f}  {s2:.5f}   {s3:.5f}\")"
      ]
    },
    {
      "cell_type": "code",
      "execution_count": null,
      "metadata": {
        "id": "_bhjUX68rNyK"
      },
      "outputs": [],
      "source": []
    },
    {
      "cell_type": "code",
      "execution_count": null,
      "metadata": {
        "id": "-xJODmEIrNyL",
        "outputId": "bec1fd22-8a98-4c0c-f54b-9785806f585f"
      },
      "outputs": [
        {
          "name": "stdout",
          "output_type": "stream",
          "text": [
            "0.09003  0.24473   0.66524\n"
          ]
        }
      ],
      "source": [
        "import math\n",
        "\n",
        "# Given three values\n",
        "v1 = 1001.0\n",
        "v2 = 1002.0\n",
        "v3 = 1003.0\n",
        "\n",
        "# get max\n",
        "max_value = v3\n",
        "\n",
        "# compute stable softmax\n",
        "e_v1 = math.exp(v1 - max_value)\n",
        "e_v2 = math.exp(v2 - max_value)\n",
        "e_v3 = math.exp(v3 - max_value)\n",
        "\n",
        "total = e_v1 + e_v2 + e_v3\n",
        "\n",
        "s1 = e_v1/total\n",
        "s2 = e_v2/total\n",
        "s3 = e_v3/total\n",
        "\n",
        "# print out\n",
        "print(f\"{s1:.5f}  {s2:.5f}   {s3:.5f}\")"
      ]
    },
    {
      "cell_type": "code",
      "execution_count": null,
      "metadata": {
        "id": "XxHOUW2HrNyL"
      },
      "outputs": [],
      "source": []
    },
    {
      "cell_type": "code",
      "execution_count": null,
      "metadata": {
        "id": "G3Qr2c6urNyL",
        "outputId": "23787930-a071-4827-e326-63af053db129"
      },
      "outputs": [
        {
          "name": "stdout",
          "output_type": "stream",
          "text": [
            "0.00000  0.26894   0.73106\n"
          ]
        }
      ],
      "source": [
        "import math\n",
        "\n",
        "# Given three values\n",
        "v1 = 1.0\n",
        "v2 = 1001.0\n",
        "v3 = 1002.0\n",
        "\n",
        "# get max\n",
        "max_value = v3\n",
        "\n",
        "# compute stable softmax\n",
        "e_v1 = math.exp(v1 - max_value)\n",
        "e_v2 = math.exp(v2 - max_value)\n",
        "e_v3 = math.exp(v3 - max_value)\n",
        "\n",
        "total = e_v1 + e_v2 + e_v3\n",
        "\n",
        "s1 = e_v1/total\n",
        "s2 = e_v2/total\n",
        "s3 = e_v3/total\n",
        "\n",
        "# print out\n",
        "print(f\"{s1:.5f}  {s2:.5f}   {s3:.5f}\")"
      ]
    },
    {
      "cell_type": "code",
      "execution_count": null,
      "metadata": {
        "id": "hB3ilsRNrNyL"
      },
      "outputs": [],
      "source": []
    }
  ],
  "metadata": {
    "kernelspec": {
      "display_name": "Python 3 (ipykernel)",
      "language": "python",
      "name": "python3"
    },
    "language_info": {
      "codemirror_mode": {
        "name": "ipython",
        "version": 3
      },
      "file_extension": ".py",
      "mimetype": "text/x-python",
      "name": "python",
      "nbconvert_exporter": "python",
      "pygments_lexer": "ipython3",
      "version": "3.9.18"
    },
    "colab": {
      "provenance": [],
      "include_colab_link": true
    }
  },
  "nbformat": 4,
  "nbformat_minor": 0
}