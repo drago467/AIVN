{
  "cells": [
    {
      "cell_type": "markdown",
      "metadata": {
        "id": "view-in-github",
        "colab_type": "text"
      },
      "source": [
        "<a href=\"https://colab.research.google.com/github/drago467/AIVN/blob/master/4_Underflow_and_Overflow.ipynb\" target=\"_parent\"><img src=\"https://colab.research.google.com/assets/colab-badge.svg\" alt=\"Open In Colab\"/></a>"
      ]
    },
    {
      "cell_type": "code",
      "execution_count": null,
      "metadata": {
        "id": "N6xY34CRcH7p",
        "outputId": "9f59e6d2-480c-481f-852e-73e6da5e2d9f"
      },
      "outputs": [
        {
          "name": "stdout",
          "output_type": "stream",
          "text": [
            "1e-100\n"
          ]
        }
      ],
      "source": [
        "# aivietnam\n",
        "\n",
        "result = 1e-100\n",
        "print(result)"
      ]
    },
    {
      "cell_type": "code",
      "execution_count": null,
      "metadata": {
        "id": "mLeLZLOXcH7t",
        "outputId": "6de84781-849f-4083-839b-64b482405dd7"
      },
      "outputs": [
        {
          "name": "stdout",
          "output_type": "stream",
          "text": [
            "0.0\n"
          ]
        }
      ],
      "source": [
        "# aivietnam\n",
        "\n",
        "result = 1e-1000\n",
        "print(result)"
      ]
    },
    {
      "cell_type": "code",
      "execution_count": null,
      "metadata": {
        "id": "KYwSgxrTcH7t",
        "outputId": "93ff9016-b087-4df6-c9c5-e7e2d0888d33"
      },
      "outputs": [
        {
          "name": "stdout",
          "output_type": "stream",
          "text": [
            "1e+100\n"
          ]
        }
      ],
      "source": [
        "# aivietnam\n",
        "\n",
        "result = 1e100\n",
        "print(result)"
      ]
    },
    {
      "cell_type": "code",
      "execution_count": null,
      "metadata": {
        "id": "q_Y8vAfscH7t",
        "outputId": "04c40b10-743c-4932-bd43-8618dbbc68ab"
      },
      "outputs": [
        {
          "name": "stdout",
          "output_type": "stream",
          "text": [
            "inf\n"
          ]
        }
      ],
      "source": [
        "# aivietnam\n",
        "\n",
        "result = 1e1000\n",
        "print(result)"
      ]
    },
    {
      "cell_type": "code",
      "execution_count": null,
      "metadata": {
        "id": "OcM62hDfcH7u"
      },
      "outputs": [],
      "source": []
    },
    {
      "cell_type": "code",
      "execution_count": null,
      "metadata": {
        "id": "aCcfd7-HcH7u"
      },
      "outputs": [],
      "source": [
        "# https://stats.stackexchange.com/questions/162988/why-sigmoid-function-instead-of-anything-else/318209#318209\n",
        "\n",
        "# https://datascience.stackexchange.com/questions/23159/in-softmax-classifier-why-use-exp-function-to-do-normalization\n",
        "\n",
        "# https://stackoverflow.com/questions/17187507/why-use-softmax-as-opposed-to-standard-normalization\n",
        "\n",
        "# https://intellipaat.com/community/1621/why-use-softmax-as-opposed-to-standard-normalization?fbclid=IwAR3V_lf3xSf_uD9FPBAZDm3SVV1vBJDg4AJY4yS6kGtA6FT-zYL68f2M4CM\n"
      ]
    },
    {
      "cell_type": "code",
      "execution_count": null,
      "metadata": {
        "id": "csWHB2SkcH7u"
      },
      "outputs": [],
      "source": []
    },
    {
      "cell_type": "code",
      "execution_count": null,
      "metadata": {
        "id": "rcmUM4p7cH7u",
        "outputId": "37eac4ac-7bca-4bb7-f49d-ad01166f68c1"
      },
      "outputs": [
        {
          "name": "stdout",
          "output_type": "stream",
          "text": [
            "0.09003  0.24473   0.66524\n"
          ]
        }
      ],
      "source": [
        "import math\n",
        "\n",
        "# Given three values\n",
        "v1 = 1.0\n",
        "v2 = 2.0\n",
        "v3 = 3.0\n",
        "\n",
        "# compute softmax\n",
        "total = math.exp(v1) + math.exp(v2) + math.exp(v3)\n",
        "\n",
        "s1 = math.exp(v1)/total\n",
        "s2 = math.exp(v2)/total\n",
        "s3 = math.exp(v3)/total\n",
        "\n",
        "# print out\n",
        "print(f\"{s1:.5f}  {s2:.5f}   {s3:.5f}\")\n",
        ""
      ]
    },
    {
      "cell_type": "code",
      "execution_count": null,
      "metadata": {
        "id": "Sb0hiF4ncH7v"
      },
      "outputs": [],
      "source": []
    },
    {
      "cell_type": "code",
      "execution_count": null,
      "metadata": {
        "id": "5J5msDF4cH7v",
        "outputId": "807fbc92-3995-4b4e-a72b-108b40bdbf8c"
      },
      "outputs": [
        {
          "ename": "OverflowError",
          "evalue": "math range error",
          "output_type": "error",
          "traceback": [
            "\u001b[1;31m---------------------------------------------------------------------------\u001b[0m",
            "\u001b[1;31mOverflowError\u001b[0m                             Traceback (most recent call last)",
            "\u001b[1;32mC:\\Users\\DINHVI~1\\AppData\\Local\\Temp/ipykernel_6404/1559505462.py\u001b[0m in \u001b[0;36m<module>\u001b[1;34m\u001b[0m\n\u001b[0;32m      7\u001b[0m \u001b[1;33m\u001b[0m\u001b[0m\n\u001b[0;32m      8\u001b[0m \u001b[1;31m# compute softmax\u001b[0m\u001b[1;33m\u001b[0m\u001b[1;33m\u001b[0m\u001b[0m\n\u001b[1;32m----> 9\u001b[1;33m \u001b[0mtotal\u001b[0m \u001b[1;33m=\u001b[0m \u001b[0mmath\u001b[0m\u001b[1;33m.\u001b[0m\u001b[0mexp\u001b[0m\u001b[1;33m(\u001b[0m\u001b[0mv1\u001b[0m\u001b[1;33m)\u001b[0m \u001b[1;33m+\u001b[0m \u001b[0mmath\u001b[0m\u001b[1;33m.\u001b[0m\u001b[0mexp\u001b[0m\u001b[1;33m(\u001b[0m\u001b[0mv2\u001b[0m\u001b[1;33m)\u001b[0m \u001b[1;33m+\u001b[0m \u001b[0mmath\u001b[0m\u001b[1;33m.\u001b[0m\u001b[0mexp\u001b[0m\u001b[1;33m(\u001b[0m\u001b[0mv3\u001b[0m\u001b[1;33m)\u001b[0m\u001b[1;33m\u001b[0m\u001b[1;33m\u001b[0m\u001b[0m\n\u001b[0m\u001b[0;32m     10\u001b[0m \u001b[1;33m\u001b[0m\u001b[0m\n\u001b[0;32m     11\u001b[0m \u001b[0ms1\u001b[0m \u001b[1;33m=\u001b[0m \u001b[0mmath\u001b[0m\u001b[1;33m.\u001b[0m\u001b[0mexp\u001b[0m\u001b[1;33m(\u001b[0m\u001b[0mv1\u001b[0m\u001b[1;33m)\u001b[0m\u001b[1;33m/\u001b[0m\u001b[0mtotal\u001b[0m\u001b[1;33m\u001b[0m\u001b[1;33m\u001b[0m\u001b[0m\n",
            "\u001b[1;31mOverflowError\u001b[0m: math range error"
          ]
        }
      ],
      "source": [
        "import math\n",
        "\n",
        "# Given three values\n",
        "v1 = 1001.0\n",
        "v2 = 1002.0\n",
        "v3 = 1003.0\n",
        "\n",
        "# compute softmax\n",
        "total = math.exp(v1) + math.exp(v2) + math.exp(v3)\n",
        "\n",
        "s1 = math.exp(v1)/total\n",
        "s2 = math.exp(v2)/total\n",
        "s3 = math.exp(v3)/total\n",
        "\n",
        "# print out\n",
        "print(f\"{s1:.5f}  {s2:.5f}   {s3:.5f}\")\n",
        ""
      ]
    },
    {
      "cell_type": "code",
      "execution_count": null,
      "metadata": {
        "id": "ChXv-lLYcH7v"
      },
      "outputs": [],
      "source": []
    },
    {
      "cell_type": "code",
      "execution_count": null,
      "metadata": {
        "id": "SYNUxMkEcH7v",
        "outputId": "709df213-b1fb-42f8-9a65-5b04748c90fb"
      },
      "outputs": [
        {
          "name": "stdout",
          "output_type": "stream",
          "text": [
            "0.09003  0.24473   0.66524\n"
          ]
        }
      ],
      "source": [
        "import math\n",
        "\n",
        "# Given three values\n",
        "v1 = 1.0\n",
        "v2 = 2.0\n",
        "v3 = 3.0\n",
        "\n",
        "# get max\n",
        "max_value = v3\n",
        "\n",
        "# compute stable softmax\n",
        "e_v1 = math.exp(v1 - max_value)\n",
        "e_v2 = math.exp(v2 - max_value)\n",
        "e_v3 = math.exp(v3 - max_value)\n",
        "\n",
        "total = e_v1 + e_v2 + e_v3\n",
        "\n",
        "s1 = e_v1/total\n",
        "s2 = e_v2/total\n",
        "s3 = e_v3/total\n",
        "\n",
        "# print out\n",
        "print(f\"{s1:.5f}  {s2:.5f}   {s3:.5f}\")"
      ]
    },
    {
      "cell_type": "code",
      "execution_count": null,
      "metadata": {
        "id": "yRZJ_4KKcH7v"
      },
      "outputs": [],
      "source": []
    },
    {
      "cell_type": "code",
      "execution_count": null,
      "metadata": {
        "id": "GqWSLNgtcH7v",
        "outputId": "14da6828-1c04-4074-b75e-f9e4c7bae894"
      },
      "outputs": [
        {
          "name": "stdout",
          "output_type": "stream",
          "text": [
            "0.09003  0.24473   0.66524\n"
          ]
        }
      ],
      "source": [
        "import math\n",
        "\n",
        "# Given three values\n",
        "v1 = 1001.0\n",
        "v2 = 1002.0\n",
        "v3 = 1003.0\n",
        "\n",
        "# get max\n",
        "max_value = v3\n",
        "\n",
        "# compute stable softmax\n",
        "e_v1 = math.exp(v1 - max_value)\n",
        "e_v2 = math.exp(v2 - max_value)\n",
        "e_v3 = math.exp(v3 - max_value)\n",
        "\n",
        "total = e_v1 + e_v2 + e_v3\n",
        "\n",
        "s1 = e_v1/total\n",
        "s2 = e_v2/total\n",
        "s3 = e_v3/total\n",
        "\n",
        "# print out\n",
        "print(f\"{s1:.5f}  {s2:.5f}   {s3:.5f}\")"
      ]
    },
    {
      "cell_type": "code",
      "execution_count": null,
      "metadata": {
        "id": "rPHDm2E2cH7w"
      },
      "outputs": [],
      "source": []
    },
    {
      "cell_type": "code",
      "execution_count": null,
      "metadata": {
        "id": "fSrASvk9cH7w",
        "outputId": "d32d73e4-7f7e-4c99-d528-fd28178a8c2a"
      },
      "outputs": [
        {
          "name": "stdout",
          "output_type": "stream",
          "text": [
            "0.00000  0.26894   0.73106\n"
          ]
        }
      ],
      "source": [
        "import math\n",
        "\n",
        "# Given three values\n",
        "v1 = 1.0\n",
        "v2 = 1001.0\n",
        "v3 = 1002.0\n",
        "\n",
        "# get max\n",
        "max_value = v3\n",
        "\n",
        "# compute stable softmax\n",
        "e_v1 = math.exp(v1 - max_value)\n",
        "e_v2 = math.exp(v2 - max_value)\n",
        "e_v3 = math.exp(v3 - max_value)\n",
        "\n",
        "total = e_v1 + e_v2 + e_v3\n",
        "\n",
        "s1 = e_v1/total\n",
        "s2 = e_v2/total\n",
        "s3 = e_v3/total\n",
        "\n",
        "# print out\n",
        "print(f\"{s1:.5f}  {s2:.5f}   {s3:.5f}\")"
      ]
    },
    {
      "cell_type": "code",
      "execution_count": null,
      "metadata": {
        "id": "827h3EgIcH7w"
      },
      "outputs": [],
      "source": []
    }
  ],
  "metadata": {
    "kernelspec": {
      "display_name": "Python 3 (ipykernel)",
      "language": "python",
      "name": "python3"
    },
    "language_info": {
      "codemirror_mode": {
        "name": "ipython",
        "version": 3
      },
      "file_extension": ".py",
      "mimetype": "text/x-python",
      "name": "python",
      "nbconvert_exporter": "python",
      "pygments_lexer": "ipython3",
      "version": "3.9.18"
    },
    "colab": {
      "provenance": [],
      "include_colab_link": true
    }
  },
  "nbformat": 4,
  "nbformat_minor": 0
}