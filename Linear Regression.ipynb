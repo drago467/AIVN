{
  "nbformat": 4,
  "nbformat_minor": 0,
  "metadata": {
    "colab": {
      "provenance": [],
      "authorship_tag": "ABX9TyNu64QXJpdFmX8oCSzghBCA",
      "include_colab_link": true
    },
    "kernelspec": {
      "name": "python3",
      "display_name": "Python 3"
    },
    "language_info": {
      "name": "python"
    }
  },
  "cells": [
    {
      "cell_type": "markdown",
      "metadata": {
        "id": "view-in-github",
        "colab_type": "text"
      },
      "source": [
        "<a href=\"https://colab.research.google.com/github/drago467/AIVN/blob/master/Linear%20Regression.ipynb\" target=\"_parent\"><img src=\"https://colab.research.google.com/assets/colab-badge.svg\" alt=\"Open In Colab\"/></a>"
      ]
    },
    {
      "cell_type": "code",
      "execution_count": 9,
      "metadata": {
        "id": "1SKCWnDfaMUT"
      },
      "outputs": [],
      "source": [
        "def predict(a, b, x):\n",
        "  return a * x + b\n",
        "\n",
        "def compute_loss(y_hat, y):\n",
        "  return (y_hat - y) ** 2\n",
        "\n",
        "def compute_derivative(y_hat, y, x):\n",
        "  dL_da = 2 * x * (y_hat - y)\n",
        "  dL_db = 2 * (y_hat - y)\n",
        "  return dL_da, dL_db\n",
        "\n",
        "def update(a, b, dL_da, dL_db, lr):\n",
        "  a = a - lr * dL_da\n",
        "  b = b - lr * dL_db\n",
        "  return a, b"
      ]
    },
    {
      "cell_type": "code",
      "source": [
        "#data\n",
        "x, y = 1, 1\n",
        "\n",
        "a, b = 2, 1\n",
        "\n",
        "lr = 0.01\n",
        "\n",
        "for _ in range(10):\n",
        "  y_hat = predict(a, b, x)\n",
        "  loss = compute_loss(y_hat, y)\n",
        "  print(loss)\n",
        "  dL_da, dL_db = compute_derivative(y_hat, y, x)\n",
        "  a, b = update(a, b, dL_da, dL_db, lr)"
      ],
      "metadata": {
        "colab": {
          "base_uri": "https://localhost:8080/"
        },
        "id": "yifskJBdaf1k",
        "outputId": "d851b17e-3f9e-44b6-e471-fd496bf68d16"
      },
      "execution_count": 14,
      "outputs": [
        {
          "output_type": "stream",
          "name": "stdout",
          "text": [
            "4\n",
            "3.6864\n",
            "3.39738624\n",
            "3.131031158784\n",
            "2.8855583159353335\n",
            "2.659330543966004\n",
            "2.45083902931907\n",
            "2.258693249420454\n",
            "2.0816116986658906\n",
            "1.9184133414904851\n"
          ]
        }
      ]
    },
    {
      "cell_type": "code",
      "source": [],
      "metadata": {
        "id": "7Hg-PVEuanw2"
      },
      "execution_count": null,
      "outputs": []
    }
  ]
}