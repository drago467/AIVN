{
  "cells": [
    {
      "cell_type": "markdown",
      "metadata": {
        "id": "view-in-github",
        "colab_type": "text"
      },
      "source": [
        "<a href=\"https://colab.research.google.com/github/drago467/AIVN/blob/master/5_Condition_Dictionary.ipynb\" target=\"_parent\"><img src=\"https://colab.research.google.com/assets/colab-badge.svg\" alt=\"Open In Colab\"/></a>"
      ]
    },
    {
      "cell_type": "code",
      "execution_count": null,
      "id": "54763dda-8c3e-4089-9e55-45f8854ed6ce",
      "metadata": {
        "id": "54763dda-8c3e-4089-9e55-45f8854ed6ce",
        "outputId": "9b3f8c08-c714-4d2b-c91e-1932edd010af"
      },
      "outputs": [
        {
          "name": "stdout",
          "output_type": "stream",
          "text": [
            "SGD\n"
          ]
        }
      ],
      "source": [
        "def get_y(a):\n",
        "    if a == 1:\n",
        "        y = 5\n",
        "    elif a == 'learning_rate':\n",
        "        y = 0.1\n",
        "    elif a == 'optimizer':\n",
        "        y = 'SGD'\n",
        "\n",
        "    return y\n",
        "\n",
        "y = get_y('optimizer')\n",
        "print(y)"
      ]
    },
    {
      "cell_type": "code",
      "execution_count": null,
      "id": "5d87c960-562a-4446-98bc-67a308bff646",
      "metadata": {
        "id": "5d87c960-562a-4446-98bc-67a308bff646"
      },
      "outputs": [],
      "source": []
    },
    {
      "cell_type": "code",
      "execution_count": null,
      "id": "bcceba95-47b6-49f3-b056-449d55723c6d",
      "metadata": {
        "id": "bcceba95-47b6-49f3-b056-449d55723c6d",
        "outputId": "c60106e8-6d71-46fa-b31f-0659a56b65c7"
      },
      "outputs": [
        {
          "name": "stdout",
          "output_type": "stream",
          "text": [
            "5\n",
            "SGD\n"
          ]
        }
      ],
      "source": [
        "options = {1: 5, 'learning_rate': 0.1, 'optimizer': 'SGD'}\n",
        "\n",
        "print(options[1])\n",
        "print(options['optimizer'])"
      ]
    },
    {
      "cell_type": "code",
      "execution_count": null,
      "id": "35c53893-e4d8-4d58-9491-9c0ee7b55b99",
      "metadata": {
        "id": "35c53893-e4d8-4d58-9491-9c0ee7b55b99"
      },
      "outputs": [],
      "source": []
    },
    {
      "cell_type": "code",
      "execution_count": null,
      "id": "a61bd745-1f99-4e02-9605-1b70a8bcb047",
      "metadata": {
        "id": "a61bd745-1f99-4e02-9605-1b70a8bcb047"
      },
      "outputs": [],
      "source": []
    },
    {
      "cell_type": "code",
      "execution_count": null,
      "id": "dc543f41-a91b-4f8a-9251-37ae4e1e0017",
      "metadata": {
        "id": "dc543f41-a91b-4f8a-9251-37ae4e1e0017"
      },
      "outputs": [],
      "source": []
    }
  ],
  "metadata": {
    "kernelspec": {
      "display_name": "Python 3 (ipykernel)",
      "language": "python",
      "name": "python3"
    },
    "language_info": {
      "codemirror_mode": {
        "name": "ipython",
        "version": 3
      },
      "file_extension": ".py",
      "mimetype": "text/x-python",
      "name": "python",
      "nbconvert_exporter": "python",
      "pygments_lexer": "ipython3",
      "version": "3.9.18"
    },
    "colab": {
      "provenance": [],
      "include_colab_link": true
    }
  },
  "nbformat": 4,
  "nbformat_minor": 5
}