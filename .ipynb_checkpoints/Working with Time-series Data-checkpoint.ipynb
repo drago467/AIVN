{
 "cells": [
  {
   "cell_type": "code",
   "execution_count": 1,
   "id": "95e2d6fd",
   "metadata": {},
   "outputs": [],
   "source": [
    "# def interpolate(x1, y1, x2, y2, x):\n",
    "#     y = ((x2 - x) / (x2 - x1)) * y1 + ((x - x1) / (x2 - x1)) * y2\n",
    "#     return y"
   ]
  },
  {
   "cell_type": "code",
   "execution_count": 2,
   "id": "19497ac5",
   "metadata": {},
   "outputs": [],
   "source": [
    "def interpolate(x1, y1, x2, y2, x):\n",
    "    alpha = (x2 - x) / (x2 - x1)\n",
    "    return alpha * y1 + (1 - alpha) * y2"
   ]
  },
  {
   "cell_type": "code",
   "execution_count": 3,
   "id": "5e272ad7",
   "metadata": {},
   "outputs": [],
   "source": [
    "x1, y1 = 1, 1"
   ]
  },
  {
   "cell_type": "code",
   "execution_count": 4,
   "id": "48acbfbb",
   "metadata": {},
   "outputs": [],
   "source": [
    "x2, y2 = 3, 3"
   ]
  },
  {
   "cell_type": "code",
   "execution_count": 5,
   "id": "ae548a7e",
   "metadata": {},
   "outputs": [],
   "source": [
    "x = 2.9"
   ]
  },
  {
   "cell_type": "code",
   "execution_count": 6,
   "id": "9bab2460",
   "metadata": {},
   "outputs": [
    {
     "name": "stdout",
     "output_type": "stream",
     "text": [
      "2.8999999999999995\n",
      "2.8999999999999995\n"
     ]
    }
   ],
   "source": [
    "print(interpolate(x1, y1, x2, y2, x))\n",
    "print(interpolate(x1, y1, x2, y2, x))"
   ]
  },
  {
   "cell_type": "code",
   "execution_count": 7,
   "id": "e8fa029b",
   "metadata": {},
   "outputs": [
    {
     "name": "stdout",
     "output_type": "stream",
     "text": [
      "None\n"
     ]
    }
   ],
   "source": [
    "data = [1, 4, None, 6]\n",
    "print(data[2])"
   ]
  },
  {
   "cell_type": "code",
   "execution_count": 8,
   "id": "e19ad3cc",
   "metadata": {},
   "outputs": [
    {
     "name": "stdout",
     "output_type": "stream",
     "text": [
      "0 1\n",
      "1 4\n",
      "2 None\n",
      "3 6\n"
     ]
    }
   ],
   "source": [
    "for i, element in enumerate(data):\n",
    "    print(i, element)"
   ]
  },
  {
   "cell_type": "code",
   "execution_count": 9,
   "id": "3d3f8e7e",
   "metadata": {},
   "outputs": [],
   "source": [
    "def find_none(data):\n",
    "    result = -1\n",
    "    for i in range(len(data)):\n",
    "        if data[i] == None:\n",
    "            result = i\n",
    "            break\n",
    "    return result"
   ]
  },
  {
   "cell_type": "code",
   "execution_count": 10,
   "id": "0d1196c0",
   "metadata": {},
   "outputs": [
    {
     "name": "stdout",
     "output_type": "stream",
     "text": [
      "2\n"
     ]
    }
   ],
   "source": [
    "data = [1, 3, None, 5]\n",
    "print(find_none(data))"
   ]
  },
  {
   "cell_type": "code",
   "execution_count": 11,
   "id": "78b33ccf",
   "metadata": {},
   "outputs": [],
   "source": [
    "def pos_end(data, none_position):\n",
    "    pos = len(data) - 1\n",
    "    for i in range(none_position+1, len(data)):\n",
    "        if data[i] != None:\n",
    "            pos = i\n",
    "    return pos"
   ]
  },
  {
   "cell_type": "code",
   "execution_count": 12,
   "id": "d565f93b",
   "metadata": {},
   "outputs": [
    {
     "name": "stdout",
     "output_type": "stream",
     "text": [
      "5\n"
     ]
    }
   ],
   "source": [
    "data = [1, 3, 5, 7, None, 9]\n",
    "print(pos_end(data, 4))"
   ]
  },
  {
   "cell_type": "code",
   "execution_count": 40,
   "id": "92dd12fe",
   "metadata": {},
   "outputs": [],
   "source": [
    "def interpolate_data(data):\n",
    "    for _ in range(len(data)):\n",
    "        none_position = find_none(data)\n",
    "        if none_position == -1:\n",
    "            break\n",
    "        \n",
    "        begin = none_position - 1\n",
    "        end = pos_end(data, none_position)\n",
    "        \n",
    "        if begin < 0:\n",
    "            data[none_position] = data[end]\n",
    "        elif end > len(data) - 1:\n",
    "            data[none_position] = data[begin]\n",
    "        else:\n",
    "            value = interpolate(begin, data[begin], end, data[end], none_position)\n",
    "            data[none_position] = value\n",
    "            \n",
    "    return data\n",
    "        "
   ]
  },
  {
   "cell_type": "code",
   "execution_count": 43,
   "id": "fb757dcf",
   "metadata": {},
   "outputs": [],
   "source": [
    "data = [None, 3, 5, 7, None, 9]"
   ]
  },
  {
   "cell_type": "code",
   "execution_count": 44,
   "id": "230fb85a",
   "metadata": {},
   "outputs": [
    {
     "data": {
      "text/plain": [
       "[9, 3, 5, 7, 8.0, 9]"
      ]
     },
     "execution_count": 44,
     "metadata": {},
     "output_type": "execute_result"
    }
   ],
   "source": [
    "interpolate_data(data)"
   ]
  },
  {
   "cell_type": "code",
   "execution_count": null,
   "id": "a0abcfa4",
   "metadata": {},
   "outputs": [],
   "source": []
  }
 ],
 "metadata": {
  "kernelspec": {
   "display_name": "Python 3 (ipykernel)",
   "language": "python",
   "name": "python3"
  },
  "language_info": {
   "codemirror_mode": {
    "name": "ipython",
    "version": 3
   },
   "file_extension": ".py",
   "mimetype": "text/x-python",
   "name": "python",
   "nbconvert_exporter": "python",
   "pygments_lexer": "ipython3",
   "version": "3.11.4"
  }
 },
 "nbformat": 4,
 "nbformat_minor": 5
}
