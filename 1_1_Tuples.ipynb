{
  "cells": [
    {
      "cell_type": "markdown",
      "metadata": {
        "id": "view-in-github",
        "colab_type": "text"
      },
      "source": [
        "<a href=\"https://colab.research.google.com/github/drago467/AIVN/blob/master/1_1_Tuples.ipynb\" target=\"_parent\"><img src=\"https://colab.research.google.com/assets/colab-badge.svg\" alt=\"Open In Colab\"/></a>"
      ]
    },
    {
      "cell_type": "markdown",
      "metadata": {
        "id": "P5rQCx3W_J38"
      },
      "source": [
        "### Tuples"
      ]
    },
    {
      "cell_type": "markdown",
      "metadata": {
        "id": "eywa6sjV_J3-"
      },
      "source": [
        "#### Constructing tuples"
      ]
    },
    {
      "cell_type": "markdown",
      "metadata": {
        "id": "gZ6zjRY1_J3_"
      },
      "source": [
        "Để tạo một tuple, đặt các giá trị trong ngoặc:"
      ]
    },
    {
      "cell_type": "code",
      "execution_count": null,
      "metadata": {
        "id": "W9Qu2F1J_J3_",
        "outputId": "2caca609-206c-4eab-f2bd-df8171a2b913"
      },
      "outputs": [
        {
          "name": "stdout",
          "output_type": "stream",
          "text": [
            "1\n",
            "2\n",
            "3\n"
          ]
        }
      ],
      "source": [
        "t = (1, 2, 3)\n",
        "\n",
        "print(t[0])\n",
        "print(t[1])\n",
        "print(t[2])"
      ]
    },
    {
      "cell_type": "markdown",
      "metadata": {
        "id": "Kg_VwwN0_J4A"
      },
      "source": [
        "Cũng có thể tạo một tuple không có dấu ngoặc đơn, bằng cách sử dụng dấu phẩy:"
      ]
    },
    {
      "cell_type": "code",
      "execution_count": null,
      "metadata": {
        "id": "csjtWWcH_J4B",
        "outputId": "ab9008b0-89e1-426e-9faf-9cddb901b3ff"
      },
      "outputs": [
        {
          "name": "stdout",
          "output_type": "stream",
          "text": [
            "(1, 2)\n",
            "<class 'tuple'>\n"
          ]
        }
      ],
      "source": [
        "t = 1, 2\n",
        "print(t)\n",
        "print(type(t))"
      ]
    },
    {
      "cell_type": "markdown",
      "metadata": {
        "id": "xWIedpRA_J4B"
      },
      "source": [
        "Nếu bạn muốn tạo một tuple với một phần tử duy nhất, bạn phải sử dụng dấu phẩy:"
      ]
    },
    {
      "cell_type": "code",
      "execution_count": null,
      "metadata": {
        "id": "1eGjoDpT_J4B",
        "outputId": "59d9702a-703a-473c-a4d7-35c2f3012fc8"
      },
      "outputs": [
        {
          "data": {
            "text/plain": [
              "(1,)"
            ]
          },
          "execution_count": 5,
          "metadata": {},
          "output_type": "execute_result"
        }
      ],
      "source": [
        "singleton = (1, )\n",
        "singleton"
      ]
    },
    {
      "cell_type": "code",
      "execution_count": null,
      "metadata": {
        "id": "XSW45hK6_J4C",
        "outputId": "acda5066-0e99-47d1-93ff-2e5085629ab6"
      },
      "outputs": [
        {
          "name": "stdout",
          "output_type": "stream",
          "text": [
            "<class 'int'>   15\n",
            "<class 'int'>   1\n",
            "<class 'tuple'>   (1,)\n"
          ]
        }
      ],
      "source": [
        "var1 = (1 + 2) * 5\n",
        "print(type(var1), ' ', var1)\n",
        "\n",
        "var2 = (1)\n",
        "print(type(var2), ' ', var2)\n",
        "\n",
        "var3 = (1,)\n",
        "print(type(var3), ' ', var3)"
      ]
    },
    {
      "cell_type": "code",
      "execution_count": null,
      "metadata": {
        "id": "3D8v3T0j_J4C"
      },
      "outputs": [],
      "source": []
    },
    {
      "cell_type": "markdown",
      "metadata": {
        "id": "qWN1Qls0_J4C"
      },
      "source": [
        "Bạn có thể lặp lại một tuple bằng cách nhân một tuple với một số:"
      ]
    },
    {
      "cell_type": "code",
      "execution_count": null,
      "metadata": {
        "id": "skltBX6s_J4C",
        "outputId": "0ca9baff-2977-4937-9c03-3dafd5832fa4"
      },
      "outputs": [
        {
          "name": "stdout",
          "output_type": "stream",
          "text": [
            "(1, 1, 1, 1, 1)\n"
          ]
        }
      ],
      "source": [
        "t = (1,) * 5\n",
        "print(t)"
      ]
    },
    {
      "cell_type": "markdown",
      "metadata": {
        "id": "r-5dhmdp_J4D"
      },
      "source": [
        "Lưu ý rằng bạn có thể nối các bộ dữ liệu và sử dụng phép gán tăng giá trị (* =, + =):"
      ]
    },
    {
      "cell_type": "code",
      "execution_count": null,
      "metadata": {
        "id": "zv5ox2m9_J4D",
        "outputId": "c59ddd58-bba7-4787-cb55-ef73f5ee66f1"
      },
      "outputs": [
        {
          "name": "stdout",
          "output_type": "stream",
          "text": [
            "(1, 0)\n",
            "(1, 0, 2)\n"
          ]
        }
      ],
      "source": [
        "t1 = (1, 0)\n",
        "print(t1)\n",
        "\n",
        "t1 += (2,)\n",
        "print(t1)"
      ]
    },
    {
      "cell_type": "markdown",
      "metadata": {
        "id": "kpa6rizY_J4D"
      },
      "source": [
        "#### Tuple methods"
      ]
    },
    {
      "cell_type": "code",
      "execution_count": null,
      "metadata": {
        "id": "clQQEyi7_J4D",
        "outputId": "5b349acf-3047-4bc7-ebfe-46172c08136c"
      },
      "outputs": [
        {
          "name": "stdout",
          "output_type": "stream",
          "text": [
            "2\n",
            "1\n"
          ]
        }
      ],
      "source": [
        "t = (1,2,3,1)\n",
        "count = t.count(1)\n",
        "index = t.index(2)\n",
        "\n",
        "print(count)\n",
        "print(index)"
      ]
    },
    {
      "cell_type": "code",
      "execution_count": null,
      "metadata": {
        "id": "XJhZ3Bbw_J4D",
        "outputId": "ce1abc71-8176-4a58-a6d0-f71616b40dd0"
      },
      "outputs": [
        {
          "data": {
            "text/plain": [
              "1"
            ]
          },
          "execution_count": 9,
          "metadata": {},
          "output_type": "execute_result"
        }
      ],
      "source": [
        "l.index(2)"
      ]
    },
    {
      "cell_type": "markdown",
      "metadata": {
        "id": "S-bhvW8g_J4D"
      },
      "source": [
        "####  Interests of tuples"
      ]
    },
    {
      "cell_type": "markdown",
      "metadata": {
        "id": "pfBQXCqe_J4D"
      },
      "source": [
        "Tuples hữu ích vì có\n",
        ". Nhanh hơn list\n",
        "\n",
        ". Bảo vệ dữ liệu\n",
        "\n",
        ". Bộ dữ liệu có thể được sử dụng làm khóa trên dictionary\n",
        "\n",
        ". Ngoài ra, nó có thể được sử dụng theo những cách hữu ích khác nhau:"
      ]
    },
    {
      "cell_type": "markdown",
      "metadata": {
        "id": "IPmdO3pF_J4D"
      },
      "source": [
        "#### Tuples cặp khóa / giá trị để xây dựng dictionary"
      ]
    },
    {
      "cell_type": "code",
      "execution_count": null,
      "metadata": {
        "id": "3Vl34Xm6_J4E",
        "outputId": "e424f112-cddd-463b-b8ff-dc88e3fd42ff"
      },
      "outputs": [
        {
          "name": "stdout",
          "output_type": "stream",
          "text": [
            "1\n",
            "2\n",
            "3\n"
          ]
        }
      ],
      "source": [
        "d = dict([('jan', 1), ('feb', 2), ('march', 3)])\n",
        "\n",
        "print(d['jan'])\n",
        "print(d['feb'])\n",
        "print(d['march'])"
      ]
    },
    {
      "cell_type": "markdown",
      "metadata": {
        "id": "P0tDGc6__J4E"
      },
      "source": [
        "#### get multiple values"
      ]
    },
    {
      "cell_type": "code",
      "execution_count": null,
      "metadata": {
        "id": "AvswAahn_J4E",
        "outputId": "7ef198e1-7dbc-4d29-86ea-415d6627c78f"
      },
      "outputs": [
        {
          "name": "stdout",
          "output_type": "stream",
          "text": [
            "a\n",
            "a\n",
            "0\n"
          ]
        }
      ],
      "source": [
        "x1,y1,z1   = ('a','b','c')\n",
        "(x2,y2,z2) = ('a','b','c')\n",
        "(x3,y3,z3) = range(3)\n",
        "\n",
        "print(x1)\n",
        "print(x2)\n",
        "print(x3)"
      ]
    },
    {
      "cell_type": "code",
      "execution_count": null,
      "metadata": {
        "id": "LHnCvnsn_J4E",
        "outputId": "823b2d15-ec74-4f44-8dde-a42b77837140"
      },
      "outputs": [
        {
          "name": "stdout",
          "output_type": "stream",
          "text": [
            "a\n",
            "a\n"
          ]
        }
      ],
      "source": [
        "x1,y1,z1   = ('a','b','c')\n",
        "(x2,y2,z2) = ('a','b','c')\n",
        "print(x1)\n",
        "print(x2)"
      ]
    },
    {
      "cell_type": "code",
      "execution_count": null,
      "metadata": {
        "id": "v6LIvPiK_J4E",
        "outputId": "ecf1b3b9-62ff-4005-e8ae-d74420694d0a"
      },
      "outputs": [
        {
          "name": "stdout",
          "output_type": "stream",
          "text": [
            "0 1 2\n"
          ]
        }
      ],
      "source": [
        "(x,y,z) = range(3)\n",
        "print(x,y,z)"
      ]
    },
    {
      "cell_type": "code",
      "execution_count": null,
      "metadata": {
        "id": "JQoEopOL_J4E",
        "outputId": "7d065b25-6251-486a-fed8-ddc37a98af11"
      },
      "outputs": [
        {
          "name": "stdout",
          "output_type": "stream",
          "text": [
            "<class 'range'>\n"
          ]
        }
      ],
      "source": [
        "a = range(3)\n",
        "print(type(a))"
      ]
    },
    {
      "cell_type": "code",
      "execution_count": null,
      "metadata": {
        "id": "AEqKuHTd_J4E"
      },
      "outputs": [],
      "source": []
    },
    {
      "cell_type": "code",
      "execution_count": null,
      "metadata": {
        "id": "1QbzBCqZ_J4E",
        "outputId": "3e3ce46e-f375-464b-dbf5-d65b993dfa64"
      },
      "outputs": [
        {
          "name": "stdout",
          "output_type": "stream",
          "text": [
            "first\n",
            "second\n"
          ]
        }
      ],
      "source": [
        "d = {'first':'string value', 'second':1}\n",
        "for a in d:\n",
        "    print(a)"
      ]
    },
    {
      "cell_type": "code",
      "execution_count": null,
      "metadata": {
        "id": "zQnBwvW0_J4F"
      },
      "outputs": [],
      "source": [
        "d = {'first':'string value', 'second':[1,2]}\n",
        "items = d.items()\n",
        "print('items:', items)\n",
        "for k,v in items:\n",
        "    print(k, v)"
      ]
    },
    {
      "cell_type": "code",
      "execution_count": null,
      "metadata": {
        "id": "_apH5cIX_J4F"
      },
      "outputs": [],
      "source": []
    },
    {
      "cell_type": "markdown",
      "metadata": {
        "id": "mYgQfGgJ_J4F"
      },
      "source": [
        "#### Tuple Unpacking"
      ]
    },
    {
      "cell_type": "markdown",
      "metadata": {
        "id": "CiiGFfXC_J4F"
      },
      "source": [
        "Tuple unpacking cho phép trích xuất các phần tử tuple tự động là danh sách các biến ở bên trái có cùng số phần tử với độ dài của tuple"
      ]
    },
    {
      "cell_type": "code",
      "execution_count": null,
      "metadata": {
        "id": "eIxOnGNm_J4F",
        "outputId": "ececdcf6-2578-45e4-f289-fde0f61588c9"
      },
      "outputs": [
        {
          "name": "stdout",
          "output_type": "stream",
          "text": [
            "1\n"
          ]
        }
      ],
      "source": [
        "data  = (1,2,3)\n",
        "x, y, z = data\n",
        "print(x)"
      ]
    },
    {
      "cell_type": "markdown",
      "metadata": {
        "id": "j14TMA9E_J4F"
      },
      "source": [
        "#### Tuple can be use as swap function"
      ]
    },
    {
      "cell_type": "markdown",
      "metadata": {
        "id": "9RqAfVf1_J4F"
      },
      "source": [
        "Mã này đảo ngược nội dung của 2 biến x và y:"
      ]
    },
    {
      "cell_type": "code",
      "execution_count": null,
      "metadata": {
        "id": "N6p2AP78_J4F",
        "outputId": "71c3de00-6075-4e17-f55a-aa074ce283d6"
      },
      "outputs": [
        {
          "name": "stdout",
          "output_type": "stream",
          "text": [
            "4 5\n",
            "5 4\n"
          ]
        }
      ],
      "source": [
        "x = 4\n",
        "y = 5\n",
        "\n",
        "print(x, y)\n",
        "\n",
        "#(x,y) = (y,x)\n",
        "x,y = y,x\n",
        "print(x, y)\n"
      ]
    },
    {
      "cell_type": "markdown",
      "metadata": {
        "id": "5O5_pbLt_J4F"
      },
      "source": [
        "Các bạn quan tâm tới mã code phía dưới:\n",
        "    "
      ]
    },
    {
      "cell_type": "code",
      "execution_count": null,
      "metadata": {
        "id": "L69x3fNn_J4F"
      },
      "outputs": [],
      "source": [
        "def swap(v1, v2):\n",
        "    (v2, v1) = (v1, v2)\n",
        "    return (v1, v2)"
      ]
    },
    {
      "cell_type": "code",
      "execution_count": null,
      "metadata": {
        "id": "D-Ob5XKB_J4G",
        "outputId": "f6a187b2-d7f3-47b7-a2ed-0b7d1d5ff532"
      },
      "outputs": [
        {
          "name": "stdout",
          "output_type": "stream",
          "text": [
            "3\n",
            "2\n"
          ]
        }
      ],
      "source": [
        "v1 = 2\n",
        "v2 = 3\n",
        "(v1, v2) = swap(v1, v2)\n",
        "\n",
        "# print\n",
        "print(v1)\n",
        "print(v2)"
      ]
    },
    {
      "cell_type": "markdown",
      "metadata": {
        "id": "BTI2VYfz_J4J"
      },
      "source": [
        "### Misc"
      ]
    },
    {
      "cell_type": "markdown",
      "metadata": {
        "id": "yC5kf64J_J4J"
      },
      "source": [
        "Length\n",
        "Tìm chiều dài của một tuple, bạn dùng phương thức len():"
      ]
    },
    {
      "cell_type": "code",
      "execution_count": null,
      "metadata": {
        "id": "KqX91OkL_J4J",
        "outputId": "9d5c63e2-48ef-4283-8dde-fe6307075562"
      },
      "outputs": [
        {
          "data": {
            "text/plain": [
              "4"
            ]
          },
          "execution_count": 25,
          "metadata": {},
          "output_type": "execute_result"
        }
      ],
      "source": [
        "t = (1, 2, 3, 4)\n",
        "len(t)"
      ]
    },
    {
      "cell_type": "markdown",
      "metadata": {
        "id": "ouxZai64_J4K"
      },
      "source": [
        "Slicing (extracting a segment)"
      ]
    },
    {
      "cell_type": "code",
      "execution_count": null,
      "metadata": {
        "id": "PDDmS5lh_J4K",
        "outputId": "9ff025f4-53c5-4b7b-df1b-06a95f6f43b2"
      },
      "outputs": [
        {
          "name": "stdout",
          "output_type": "stream",
          "text": [
            "(3, 4, 5)\n",
            "(5, 4, 3, 2, 1)\n"
          ]
        }
      ],
      "source": [
        "data = (1, 2, 3, 4, 5)\n",
        "print(data[2:])\n",
        "print(data[::-1])"
      ]
    },
    {
      "cell_type": "code",
      "execution_count": null,
      "metadata": {
        "id": "yeqwKDq9_J4K"
      },
      "outputs": [],
      "source": []
    },
    {
      "cell_type": "code",
      "execution_count": null,
      "metadata": {
        "id": "ahjDpR67_J4K"
      },
      "outputs": [],
      "source": []
    },
    {
      "cell_type": "markdown",
      "metadata": {
        "id": "CphWVkEd_J4K"
      },
      "source": [
        "Copy a tuple"
      ]
    },
    {
      "cell_type": "code",
      "execution_count": null,
      "metadata": {
        "id": "qwK2zI1d_J4K",
        "outputId": "4d5dfb30-42c3-4e42-9534-7a8564446268"
      },
      "outputs": [
        {
          "ename": "AttributeError",
          "evalue": "'tuple' object has no attribute 'copy'",
          "output_type": "error",
          "traceback": [
            "\u001b[1;31m---------------------------------------------------------------------------\u001b[0m",
            "\u001b[1;31mAttributeError\u001b[0m                            Traceback (most recent call last)",
            "Input \u001b[1;32mIn [1]\u001b[0m, in \u001b[0;36m<cell line: 3>\u001b[1;34m()\u001b[0m\n\u001b[0;32m      1\u001b[0m t \u001b[38;5;241m=\u001b[39m (\u001b[38;5;241m1\u001b[39m, \u001b[38;5;241m2\u001b[39m, \u001b[38;5;241m3\u001b[39m, \u001b[38;5;241m4\u001b[39m, \u001b[38;5;241m5\u001b[39m)\n\u001b[1;32m----> 3\u001b[0m new_t \u001b[38;5;241m=\u001b[39m \u001b[43mt\u001b[49m\u001b[38;5;241;43m.\u001b[39;49m\u001b[43mcopy\u001b[49m()\n\u001b[0;32m      4\u001b[0m \u001b[38;5;28mprint\u001b[39m(new_t)\n",
            "\u001b[1;31mAttributeError\u001b[0m: 'tuple' object has no attribute 'copy'"
          ]
        }
      ],
      "source": [
        "t = (1, 2, 3, 4, 5)\n",
        "\n",
        "new_t = t.copy()\n",
        "print(new_t)"
      ]
    },
    {
      "cell_type": "markdown",
      "metadata": {
        "id": "ix1zxwVj_J4K"
      },
      "source": [
        "Tuple are not fully immutable"
      ]
    },
    {
      "cell_type": "code",
      "execution_count": null,
      "metadata": {
        "id": "sfv04dnK_J4K",
        "outputId": "b3eba566-c901-40c8-9dc0-c3eed4b6cace"
      },
      "outputs": [
        {
          "name": "stdout",
          "output_type": "stream",
          "text": [
            "(1, 2, [9, 10])\n"
          ]
        }
      ],
      "source": [
        "t = (1, 2, [3, 10])\n",
        "t[2][0] = 9\n",
        "print(t)"
      ]
    },
    {
      "cell_type": "code",
      "execution_count": null,
      "metadata": {
        "id": "y-3VVIIi_J4K",
        "outputId": "54dc8c25-af0f-423f-f684-df66b496d63c"
      },
      "outputs": [
        {
          "name": "stdout",
          "output_type": "stream",
          "text": [
            "(1, 2, [3, 4])\n"
          ]
        }
      ],
      "source": [
        "t = (1, 2, [3, 10])\n",
        "t[2][1] = 4\n",
        "print(t)"
      ]
    },
    {
      "cell_type": "code",
      "execution_count": null,
      "metadata": {
        "id": "_62K_cwk_J4K"
      },
      "outputs": [],
      "source": []
    },
    {
      "cell_type": "code",
      "execution_count": null,
      "metadata": {
        "id": "-AJe-Z5O_J4K",
        "outputId": "109be003-7de2-464c-b556-41a17717ee6a"
      },
      "outputs": [
        {
          "ename": "TypeError",
          "evalue": "'tuple' object does not support item assignment",
          "output_type": "error",
          "traceback": [
            "\u001b[0;31m---------------------------------------------------------------------------\u001b[0m",
            "\u001b[0;31mTypeError\u001b[0m                                 Traceback (most recent call last)",
            "\u001b[0;32m<ipython-input-30-b1f85e7d332a>\u001b[0m in \u001b[0;36m<module>\u001b[0;34m\u001b[0m\n\u001b[1;32m      1\u001b[0m \u001b[0mt\u001b[0m \u001b[0;34m=\u001b[0m \u001b[0;34m(\u001b[0m\u001b[0;36m1\u001b[0m\u001b[0;34m,\u001b[0m \u001b[0;36m2\u001b[0m\u001b[0;34m,\u001b[0m \u001b[0;36m3\u001b[0m\u001b[0;34m,\u001b[0m \u001b[0;36m4\u001b[0m\u001b[0;34m,\u001b[0m \u001b[0;36m5\u001b[0m\u001b[0;34m)\u001b[0m\u001b[0;34m\u001b[0m\u001b[0;34m\u001b[0m\u001b[0m\n\u001b[0;32m----> 2\u001b[0;31m \u001b[0mt\u001b[0m\u001b[0;34m[\u001b[0m\u001b[0;36m2\u001b[0m\u001b[0;34m]\u001b[0m \u001b[0;34m=\u001b[0m \u001b[0;36m9\u001b[0m\u001b[0;34m\u001b[0m\u001b[0;34m\u001b[0m\u001b[0m\n\u001b[0m\u001b[1;32m      3\u001b[0m \u001b[0mprint\u001b[0m\u001b[0;34m(\u001b[0m\u001b[0mt\u001b[0m\u001b[0;34m)\u001b[0m\u001b[0;34m\u001b[0m\u001b[0;34m\u001b[0m\u001b[0m\n",
            "\u001b[0;31mTypeError\u001b[0m: 'tuple' object does not support item assignment"
          ]
        }
      ],
      "source": [
        "t = (1, 2, 3, 4, 5)\n",
        "t[2] = 9\n",
        "print(t)"
      ]
    },
    {
      "cell_type": "markdown",
      "metadata": {
        "id": "AZloMzkR_J4L"
      },
      "source": [
        "Chuyển đổi một tuple thành một chuỗi"
      ]
    },
    {
      "cell_type": "markdown",
      "metadata": {
        "id": "LznsRQcU_J4L"
      },
      "source": [
        "Bạn có thể chuyển đổi một tuple thành một chuỗi với cách sau"
      ]
    },
    {
      "cell_type": "code",
      "execution_count": null,
      "metadata": {
        "id": "idtg2Qz1_J4L",
        "outputId": "5091c9e6-a223-4124-c35d-571e83e4c822"
      },
      "outputs": [
        {
          "name": "stdout",
          "output_type": "stream",
          "text": [
            "(1, 2, 3, 4, 5)\n",
            "<class 'str'>\n"
          ]
        }
      ],
      "source": [
        "data = (1, 2, 3, 4, 5)\n",
        "data_str = str(data)\n",
        "print(data_str)\n",
        "print(type(data_str))"
      ]
    },
    {
      "cell_type": "code",
      "execution_count": null,
      "metadata": {
        "id": "l976XTWy_J4L",
        "outputId": "3f657b7b-f10c-4f98-f67e-facb06040434"
      },
      "outputs": [
        {
          "name": "stdout",
          "output_type": "stream",
          "text": [
            "(\n"
          ]
        }
      ],
      "source": [
        "print(data_str[0])"
      ]
    },
    {
      "cell_type": "code",
      "execution_count": null,
      "metadata": {
        "id": "2hIfE1xB_J4L"
      },
      "outputs": [],
      "source": []
    },
    {
      "cell_type": "markdown",
      "metadata": {
        "id": "Fg1e0qeH_J4L"
      },
      "source": [
        "math and comparison"
      ]
    },
    {
      "cell_type": "markdown",
      "metadata": {
        "id": "ohX46TFT_J4L"
      },
      "source": [
        "Toán tử so sánh và các hàm toán học có thể được sử dụng trên các bộ dữ liệu. Dưới đây là một số ví dụ:"
      ]
    },
    {
      "cell_type": "code",
      "execution_count": null,
      "metadata": {
        "id": "aKiNF_c5_J4L",
        "outputId": "052bf0c6-698e-4ace-e615-a3ce6bdd6235"
      },
      "outputs": [
        {
          "name": "stdout",
          "output_type": "stream",
          "text": [
            "1\n",
            "5\n",
            "15\n"
          ]
        }
      ],
      "source": [
        "t = (1, 2, 3, 4, 5)\n",
        "\n",
        "print(min(t))\n",
        "print(max(t))\n",
        "print(sum(t))"
      ]
    },
    {
      "cell_type": "code",
      "execution_count": null,
      "metadata": {
        "id": "EOEc4sM0_J4L",
        "outputId": "3af1768d-bb34-4825-f168-69ec8f6f974f"
      },
      "outputs": [
        {
          "name": "stdout",
          "output_type": "stream",
          "text": [
            "[3, 4, 6, 7, 9]\n"
          ]
        }
      ],
      "source": [
        "t = (4, 7, 3, 9, 6)\n",
        "t_s = sorted(t)\n",
        "print(t_s)"
      ]
    },
    {
      "cell_type": "code",
      "execution_count": null,
      "metadata": {
        "id": "Fw9KnMgr_J4M",
        "outputId": "8eeb7e58-bbd4-4e94-c3ef-c3446151e11b"
      },
      "outputs": [
        {
          "name": "stdout",
          "output_type": "stream",
          "text": [
            "(1, 2, 3, 4, 5)\n",
            "('a', 'b', 'c', 'd', 'e')\n",
            "1 a\n",
            "2 b\n",
            "3 c\n",
            "4 d\n",
            "5 e\n"
          ]
        }
      ],
      "source": [
        "t1 = (1, 2, 3, 4, 5)\n",
        "t2 = ('a', 'b', 'c', 'd', 'e')\n",
        "\n",
        "print(t1)\n",
        "print(t2)\n",
        "\n",
        "t3 = zip(t1, t2)\n",
        "for x,y in t3:\n",
        "    print(x, y)"
      ]
    },
    {
      "cell_type": "code",
      "execution_count": null,
      "metadata": {
        "id": "-SLtjY6y_J4M"
      },
      "outputs": [],
      "source": []
    },
    {
      "cell_type": "code",
      "execution_count": null,
      "metadata": {
        "id": "H8MufhgF_J4M"
      },
      "outputs": [],
      "source": [
        "import math\n",
        "\n",
        "def quadratic_equation(a, b, c):\n",
        "    '''\n",
        "    This function aims at solving the quadratic equation\n",
        "    a, b, c --- three parameters and a =! 0\n",
        "    '''\n",
        "\n",
        "    # compute delta\n",
        "    delta = b*b - 4*a*c\n",
        "\n",
        "    if delta < 0:\n",
        "        return ()\n",
        "    elif delta == 0:\n",
        "        x = (-b+math.sqrt(delta))/2*a\n",
        "        return (x,)\n",
        "    else:\n",
        "        x1 = (-b+math.sqrt(delta))/(2*a)\n",
        "        x2 = (-b-math.sqrt(delta))/(2*a)\n",
        "        return (x1,x2)\n"
      ]
    },
    {
      "cell_type": "code",
      "execution_count": null,
      "metadata": {
        "id": "yMrE2fNZ_J4M",
        "outputId": "b67b85e2-1a25-4db6-f0be-feb5546f037b"
      },
      "outputs": [
        {
          "name": "stdout",
          "output_type": "stream",
          "text": [
            "<class 'tuple'>\n",
            "0\n",
            "()\n"
          ]
        }
      ],
      "source": [
        "result = quadratic_equation(a=5, b=0, c=1)\n",
        "print(type(result))\n",
        "print(len(result))\n",
        "print(result)"
      ]
    },
    {
      "cell_type": "code",
      "execution_count": null,
      "metadata": {
        "id": "E4Ke1wTg_J4M",
        "outputId": "8e4b1174-9254-4c34-b4a8-50464894d4f1"
      },
      "outputs": [
        {
          "name": "stdout",
          "output_type": "stream",
          "text": [
            "<class 'tuple'>\n",
            "2\n",
            "(-0.276393202250021, -0.7236067977499789)\n"
          ]
        }
      ],
      "source": [
        "result = quadratic_equation(a=5, b=5, c=1)\n",
        "print(type(result))\n",
        "print(len(result))\n",
        "print(result)"
      ]
    },
    {
      "cell_type": "code",
      "execution_count": null,
      "metadata": {
        "id": "0e66Ozlh_J4M",
        "outputId": "98f6304e-b28f-41b7-ce83-3e606258c5f2"
      },
      "outputs": [
        {
          "name": "stdout",
          "output_type": "stream",
          "text": [
            "<class 'tuple'>\n",
            "1\n",
            "(-8.0,)\n"
          ]
        }
      ],
      "source": [
        "result = quadratic_equation(a=4, b=4, c=1)\n",
        "print(type(result))\n",
        "print(len(result))\n",
        "print(result)"
      ]
    },
    {
      "cell_type": "code",
      "execution_count": null,
      "metadata": {
        "id": "uS2JFwv3_J4M",
        "outputId": "f0f7fff2-f816-40b1-8da7-17eda0c96010"
      },
      "outputs": [
        {
          "ename": "TypeError",
          "evalue": "'tuple' object does not support item assignment",
          "output_type": "error",
          "traceback": [
            "\u001b[1;31m---------------------------------------------------------------------------\u001b[0m",
            "\u001b[1;31mTypeError\u001b[0m                                 Traceback (most recent call last)",
            "\u001b[1;32m<ipython-input-21-55f394e5ddc8>\u001b[0m in \u001b[0;36m<module>\u001b[1;34m\u001b[0m\n\u001b[0;32m      1\u001b[0m \u001b[0mresult\u001b[0m \u001b[1;33m=\u001b[0m \u001b[0mquadratic_equation\u001b[0m\u001b[1;33m(\u001b[0m\u001b[0ma\u001b[0m\u001b[1;33m=\u001b[0m\u001b[1;36m4\u001b[0m\u001b[1;33m,\u001b[0m \u001b[0mb\u001b[0m\u001b[1;33m=\u001b[0m\u001b[1;36m4\u001b[0m\u001b[1;33m,\u001b[0m \u001b[0mc\u001b[0m\u001b[1;33m=\u001b[0m\u001b[1;36m1\u001b[0m\u001b[1;33m)\u001b[0m\u001b[1;33m\u001b[0m\u001b[1;33m\u001b[0m\u001b[0m\n\u001b[1;32m----> 2\u001b[1;33m \u001b[0mresult\u001b[0m\u001b[1;33m[\u001b[0m\u001b[1;36m0\u001b[0m\u001b[1;33m]\u001b[0m \u001b[1;33m=\u001b[0m \u001b[1;36m1\u001b[0m\u001b[1;33m\u001b[0m\u001b[1;33m\u001b[0m\u001b[0m\n\u001b[0m",
            "\u001b[1;31mTypeError\u001b[0m: 'tuple' object does not support item assignment"
          ]
        }
      ],
      "source": [
        "result = quadratic_equation(a=4, b=4, c=1)\n",
        "result[0] = 1"
      ]
    },
    {
      "cell_type": "code",
      "execution_count": null,
      "metadata": {
        "id": "Ap5ATOx6_J4M"
      },
      "outputs": [],
      "source": []
    },
    {
      "cell_type": "code",
      "execution_count": null,
      "metadata": {
        "id": "qSP1-Yhn_J4M",
        "outputId": "44e58bdd-3491-4209-a1ef-5efd40a07a28"
      },
      "outputs": [
        {
          "name": "stdout",
          "output_type": "stream",
          "text": [
            "(1, 5)\n",
            "<class 'tuple'>\n",
            "(2, 6)\n",
            "<class 'tuple'>\n",
            "(3, 7)\n",
            "<class 'tuple'>\n"
          ]
        }
      ],
      "source": [
        "# tuple and zip\n",
        "\n",
        "x_data = [1, 2, 3]\n",
        "y_data = [5, 6, 7]\n",
        "data = zip(x_data, y_data)\n",
        "\n",
        "# print\n",
        "for d in data:\n",
        "    print(d)\n",
        "    print(type(d))"
      ]
    },
    {
      "cell_type": "code",
      "execution_count": null,
      "metadata": {
        "id": "1Jf8Pn0z_J4N"
      },
      "outputs": [],
      "source": []
    },
    {
      "cell_type": "markdown",
      "metadata": {
        "id": "tXy0vp2Z_J4N"
      },
      "source": [
        "## Tuple and List"
      ]
    },
    {
      "cell_type": "code",
      "execution_count": null,
      "metadata": {
        "id": "5DsI1e2d_J4N",
        "outputId": "9b92db87-4b61-4c2c-f94f-07f654d4960a"
      },
      "outputs": [
        {
          "name": "stdout",
          "output_type": "stream",
          "text": [
            "120\n",
            "80\n"
          ]
        }
      ],
      "source": [
        "# memory comparison\n",
        "import sys\n",
        "\n",
        "aList  = [3, 4, 5, 6, 7]\n",
        "aTuple = (3, 4, 5, 6, 7)\n",
        "\n",
        "print(sys.getsizeof(aList))\n",
        "print(sys.getsizeof(aTuple))"
      ]
    },
    {
      "cell_type": "code",
      "execution_count": null,
      "metadata": {
        "id": "WN1G5BKJ_J4N"
      },
      "outputs": [],
      "source": []
    },
    {
      "cell_type": "code",
      "execution_count": null,
      "metadata": {
        "id": "JNmWTLbu_J4N",
        "outputId": "11fad677-4a05-4cba-cf13-c93209644d78"
      },
      "outputs": [
        {
          "name": "stdout",
          "output_type": "stream",
          "text": [
            "(3, 4, 5, 6, 7)\n",
            "<class 'tuple'>\n"
          ]
        }
      ],
      "source": [
        "# convert from list to tuple\n",
        "aList  = [3, 4, 5, 6, 7]\n",
        "aTuple = tuple(aList)\n",
        "\n",
        "print(aTuple)\n",
        "print(type(aTuple))"
      ]
    },
    {
      "cell_type": "code",
      "execution_count": null,
      "metadata": {
        "id": "Teqm9JBn_J4N"
      },
      "outputs": [],
      "source": []
    },
    {
      "cell_type": "code",
      "execution_count": null,
      "metadata": {
        "id": "RpNSH7oh_J4N",
        "outputId": "0c267e0e-63d2-49bd-a650-ad495e47faf4"
      },
      "outputs": [
        {
          "name": "stdout",
          "output_type": "stream",
          "text": [
            "[3, 4, 5, 6, 7]\n",
            "<class 'list'>\n"
          ]
        }
      ],
      "source": [
        "# convert from tuple to list\n",
        "aTuple  = (3, 4, 5, 6, 7)\n",
        "aList = list(aList)\n",
        "\n",
        "print(aList)\n",
        "print(type(aList))"
      ]
    },
    {
      "cell_type": "code",
      "execution_count": null,
      "metadata": {
        "id": "zm6K_U9F_J4N"
      },
      "outputs": [],
      "source": []
    }
  ],
  "metadata": {
    "kernelspec": {
      "display_name": "Python 3 (ipykernel)",
      "language": "python",
      "name": "python3"
    },
    "language_info": {
      "codemirror_mode": {
        "name": "ipython",
        "version": 3
      },
      "file_extension": ".py",
      "mimetype": "text/x-python",
      "name": "python",
      "nbconvert_exporter": "python",
      "pygments_lexer": "ipython3",
      "version": "3.9.12"
    },
    "colab": {
      "provenance": [],
      "include_colab_link": true
    }
  },
  "nbformat": 4,
  "nbformat_minor": 0
}