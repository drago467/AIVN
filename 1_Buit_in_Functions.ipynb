{
  "cells": [
    {
      "cell_type": "markdown",
      "metadata": {
        "id": "view-in-github",
        "colab_type": "text"
      },
      "source": [
        "<a href=\"https://colab.research.google.com/github/drago467/AIVN/blob/master/1_Buit_in_Functions.ipynb\" target=\"_parent\"><img src=\"https://colab.research.google.com/assets/colab-badge.svg\" alt=\"Open In Colab\"/></a>"
      ]
    },
    {
      "cell_type": "markdown",
      "metadata": {
        "id": "254C1uhDptds"
      },
      "source": [
        "## Some Built-in Functions"
      ]
    },
    {
      "cell_type": "code",
      "execution_count": null,
      "metadata": {
        "id": "jav2IdzYptdu"
      },
      "outputs": [],
      "source": [
        "# yêu cầu user nhập từ bàn phím\n",
        "value = input(\"Value: \")\n",
        "\n",
        "print(value)\n",
        "print(type(value))"
      ]
    },
    {
      "cell_type": "code",
      "execution_count": null,
      "metadata": {
        "id": "N544VhxPptdv"
      },
      "outputs": [],
      "source": []
    },
    {
      "cell_type": "code",
      "execution_count": null,
      "metadata": {
        "id": "2Jk_Ad_mptdv"
      },
      "outputs": [],
      "source": [
        "# yêu cầu user nhập từ bàn phím\n",
        "value = input(\"Value: \")\n",
        "\n",
        "value = int(value)\n",
        "\n",
        "print(value)\n",
        "print(type(value))"
      ]
    },
    {
      "cell_type": "code",
      "execution_count": null,
      "metadata": {
        "id": "9vQtRNZ8ptdv"
      },
      "outputs": [],
      "source": []
    },
    {
      "cell_type": "code",
      "execution_count": null,
      "metadata": {
        "id": "wpS99SwUptdw",
        "outputId": "45ee461a-b767-4095-a167-79b6d85c39cd"
      },
      "outputs": [
        {
          "name": "stdout",
          "output_type": "stream",
          "text": [
            "Input degrees: 180\n",
            "3.14159\n"
          ]
        }
      ],
      "source": [
        "# yêu cầu user nhập góc theo độ và\n",
        "# ép kiểu dữ liệu về float\n",
        "degree = float(input(\"Input degrees: \"))\n",
        "\n",
        "# tính góc theo radian\n",
        "PI_number = 3.14159\n",
        "radian = degree*(PI_number/180)\n",
        "print(radian)"
      ]
    },
    {
      "cell_type": "code",
      "execution_count": null,
      "metadata": {
        "id": "bLnKNryZptdw"
      },
      "outputs": [],
      "source": []
    },
    {
      "cell_type": "code",
      "execution_count": null,
      "metadata": {
        "id": "bFk61u7Aptdw"
      },
      "outputs": [],
      "source": [
        "# input\n",
        "temp_c = float(input('Nhập nhiệt độ theo độ C: '))\n",
        "\n",
        "# process\n",
        "temp_f = ((9 / 5) * temp_c) + 32\n",
        "\n",
        "# output\n",
        "print('Nhiệt độ F là: ', temp_f)"
      ]
    },
    {
      "cell_type": "code",
      "execution_count": null,
      "metadata": {
        "id": "YK59tMRRptdw"
      },
      "outputs": [],
      "source": []
    },
    {
      "cell_type": "code",
      "execution_count": null,
      "metadata": {
        "id": "uGhVOuMWptdx"
      },
      "outputs": [],
      "source": []
    },
    {
      "cell_type": "code",
      "execution_count": null,
      "metadata": {
        "id": "Y2vNLAnOptdx"
      },
      "outputs": [],
      "source": []
    },
    {
      "cell_type": "code",
      "execution_count": null,
      "metadata": {
        "id": "ADUno8Ptptdx"
      },
      "outputs": [],
      "source": []
    },
    {
      "cell_type": "code",
      "execution_count": null,
      "metadata": {
        "id": "Xy2QGh7gptdx"
      },
      "outputs": [],
      "source": []
    },
    {
      "cell_type": "code",
      "execution_count": null,
      "metadata": {
        "id": "uAw0SYdnptdx"
      },
      "outputs": [],
      "source": []
    },
    {
      "cell_type": "code",
      "execution_count": null,
      "metadata": {
        "id": "eIwMXhdtptdx"
      },
      "outputs": [],
      "source": []
    },
    {
      "cell_type": "code",
      "execution_count": null,
      "metadata": {
        "id": "rrS6bU4Gptdx"
      },
      "outputs": [],
      "source": []
    },
    {
      "cell_type": "code",
      "execution_count": null,
      "metadata": {
        "id": "fGAyK6tVptdx"
      },
      "outputs": [],
      "source": [
        "# yêu cầu user nhập giá trị a\n",
        "a = int(input(\"Hãy nhập giá trị a: \"))\n",
        "\n",
        "# yêu cầu user nhập giá trị b\n",
        "b = int(input(\"Hãy nhập giá trị b: \"))\n",
        "\n",
        "# yêu cầu user nhập giá trị c\n",
        "c = int(input(\"Hãy nhập giá trị c: \"))\n",
        "\n",
        "is_right_triangle = not bool(a**2+b**2-c**2)\n",
        "print('Có phải là tam giác vuông? ', is_right_triangle)"
      ]
    },
    {
      "cell_type": "code",
      "execution_count": null,
      "metadata": {
        "id": "BNcBSkIvptdx"
      },
      "outputs": [],
      "source": []
    }
  ],
  "metadata": {
    "kernelspec": {
      "display_name": "Python 3 (ipykernel)",
      "language": "python",
      "name": "python3"
    },
    "language_info": {
      "codemirror_mode": {
        "name": "ipython",
        "version": 3
      },
      "file_extension": ".py",
      "mimetype": "text/x-python",
      "name": "python",
      "nbconvert_exporter": "python",
      "pygments_lexer": "ipython3",
      "version": "3.9.18"
    },
    "colab": {
      "provenance": [],
      "include_colab_link": true
    }
  },
  "nbformat": 4,
  "nbformat_minor": 0
}