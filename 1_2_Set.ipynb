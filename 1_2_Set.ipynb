{
  "cells": [
    {
      "cell_type": "markdown",
      "metadata": {
        "id": "view-in-github",
        "colab_type": "text"
      },
      "source": [
        "<a href=\"https://colab.research.google.com/github/drago467/AIVN/blob/master/1_2_Set.ipynb\" target=\"_parent\"><img src=\"https://colab.research.google.com/assets/colab-badge.svg\" alt=\"Open In Colab\"/></a>"
      ]
    },
    {
      "cell_type": "code",
      "execution_count": null,
      "metadata": {
        "id": "6Rm1tFecy6sj"
      },
      "outputs": [],
      "source": [
        "# create a set\n",
        "animals = {\"cat\", \"dog\", \"tiger\"}\n",
        "\n",
        "print(type(animals))\n",
        "print(animals)"
      ]
    },
    {
      "cell_type": "code",
      "execution_count": null,
      "metadata": {
        "id": "TD3dAlPSy6sl"
      },
      "outputs": [],
      "source": []
    },
    {
      "cell_type": "code",
      "execution_count": null,
      "metadata": {
        "id": "MwF1kHMoy6sl"
      },
      "outputs": [],
      "source": [
        "# create a set\n",
        "a_set = {\"cat\", 5, True, 40.0}\n",
        "\n",
        "print(type(a_set))\n",
        "print(a_set)"
      ]
    },
    {
      "cell_type": "code",
      "execution_count": null,
      "metadata": {
        "id": "l183s28my6sm"
      },
      "outputs": [],
      "source": []
    },
    {
      "cell_type": "code",
      "execution_count": null,
      "metadata": {
        "id": "qYWLFrtSy6sm"
      },
      "outputs": [],
      "source": [
        "# No duplication\n",
        "animals = {\"cat\", \"dog\", \"tiger\"}\n",
        "print(animals)\n",
        "\n",
        "animals.add(\"cat\")\n",
        "print(animals)"
      ]
    },
    {
      "cell_type": "code",
      "execution_count": null,
      "metadata": {
        "id": "rxLBAXXGy6sm"
      },
      "outputs": [],
      "source": []
    },
    {
      "cell_type": "code",
      "execution_count": null,
      "metadata": {
        "id": "OQT9hFujy6sm"
      },
      "outputs": [],
      "source": [
        "# copy\n",
        "animals = {\"cat\", \"dog\", \"tiger\"}\n",
        "print(\"Animals:\", animals)\n",
        "\n",
        "a_copy = animals.copy()\n",
        "print(\"Copy:\", a_copy)"
      ]
    },
    {
      "cell_type": "code",
      "execution_count": null,
      "metadata": {
        "id": "S-uI-ayqy6sn"
      },
      "outputs": [],
      "source": []
    },
    {
      "cell_type": "code",
      "execution_count": null,
      "metadata": {
        "id": "GG3Fr56Ry6sn"
      },
      "outputs": [],
      "source": [
        "# accessing items\n",
        "animals = {\"cat\", \"dog\", \"tiger\"}\n",
        "for animal in animals:\n",
        "    print(animal)"
      ]
    },
    {
      "cell_type": "code",
      "execution_count": null,
      "metadata": {
        "id": "8-oogoyty6sn"
      },
      "outputs": [],
      "source": [
        "# not support indexing\n",
        "animals = {\"cat\", \"dog\", \"tiger\"}\n",
        "print(animals[1])"
      ]
    },
    {
      "cell_type": "code",
      "execution_count": null,
      "metadata": {
        "id": "ou3FXzY-y6sn"
      },
      "outputs": [],
      "source": []
    },
    {
      "cell_type": "code",
      "execution_count": null,
      "metadata": {
        "id": "KduObnAty6sn"
      },
      "outputs": [],
      "source": [
        "# add an item\n",
        "animals = {\"cat\", \"dog\", \"tiger\"}\n",
        "animals.add(\"bear\")\n",
        "print(animals)"
      ]
    },
    {
      "cell_type": "code",
      "execution_count": null,
      "metadata": {
        "id": "rLc4ui2vy6sn"
      },
      "outputs": [],
      "source": []
    },
    {
      "cell_type": "code",
      "execution_count": null,
      "metadata": {
        "id": "ljN9MF-ey6sn"
      },
      "outputs": [],
      "source": [
        "# insert a set to another set\n",
        "animals = {\"cat\", \"dog\", \"tiger\"}\n",
        "animals.update({\"chicken\",\"Duck\"})\n",
        "print(animals)"
      ]
    },
    {
      "cell_type": "code",
      "execution_count": null,
      "metadata": {
        "id": "8XvfAyvMy6sn"
      },
      "outputs": [],
      "source": []
    },
    {
      "cell_type": "code",
      "execution_count": null,
      "metadata": {
        "id": "IPmVpBiCy6so"
      },
      "outputs": [],
      "source": [
        "# join two sets\n",
        "set1 = {\"cat\", \"dog\"}\n",
        "set2 = {\"duck\", \"tiger\"}\n",
        "\n",
        "set3 = set1.union(set2)\n",
        "print(set3)"
      ]
    },
    {
      "cell_type": "code",
      "execution_count": null,
      "metadata": {
        "id": "a88PSorBy6so"
      },
      "outputs": [],
      "source": []
    },
    {
      "cell_type": "code",
      "execution_count": null,
      "metadata": {
        "id": "6XIsHNnJy6so"
      },
      "outputs": [],
      "source": [
        "# remove an item\n",
        "animals = {\"cat\", \"dog\", \"tiger\"}\n",
        "animals.remove(\"dog\")\n",
        "print(animals)"
      ]
    },
    {
      "cell_type": "code",
      "execution_count": null,
      "metadata": {
        "id": "fICwdk21y6so"
      },
      "outputs": [],
      "source": []
    },
    {
      "cell_type": "code",
      "execution_count": null,
      "metadata": {
        "id": "k-MsBi6Zy6so"
      },
      "outputs": [],
      "source": [
        "# remove an item\n",
        "animals = {\"cat\", \"dog\", \"tiger\"}\n",
        "animals.discard(\"tiger\")\n",
        "print(animals)"
      ]
    },
    {
      "cell_type": "code",
      "execution_count": null,
      "metadata": {
        "id": "Kaa3SKB2y6so"
      },
      "outputs": [],
      "source": []
    },
    {
      "cell_type": "code",
      "execution_count": null,
      "metadata": {
        "id": "1VcBisXdy6so"
      },
      "outputs": [],
      "source": [
        "# remove an item\n",
        "animals = {\"cat\", \"dog\", \"tiger\"}\n",
        "animals.remove(\"duck\")\n",
        "print(animals)"
      ]
    },
    {
      "cell_type": "code",
      "execution_count": null,
      "metadata": {
        "id": "b6sDUl1wy6so"
      },
      "outputs": [],
      "source": [
        "# remove an item\n",
        "animals = {\"cat\", \"dog\", \"tiger\"}\n",
        "animals.discard(\"duck\")\n",
        "print(animals)"
      ]
    },
    {
      "cell_type": "code",
      "execution_count": null,
      "metadata": {
        "id": "oui9Uzzky6so"
      },
      "outputs": [],
      "source": []
    },
    {
      "cell_type": "code",
      "execution_count": null,
      "metadata": {
        "id": "Puotm7Sky6so"
      },
      "outputs": [],
      "source": [
        "# create a set\n",
        "a_list = [1, 2, 3]\n",
        "a_set  = {\"cat\", a_list}\n",
        "print(a_set)"
      ]
    },
    {
      "cell_type": "code",
      "execution_count": null,
      "metadata": {
        "id": "4NRznt7cy6so"
      },
      "outputs": [],
      "source": []
    },
    {
      "cell_type": "code",
      "execution_count": null,
      "metadata": {
        "id": "wahIS7uPy6so"
      },
      "outputs": [],
      "source": [
        "# difference\n",
        "\n",
        "set1 = {\"apple\", \"banana\", \"cherry\"}\n",
        "set2 = {\"pineapple\", \"apple\"}\n",
        "\n",
        "set3 = set1.difference(set2)\n",
        "\n",
        "print(set3)"
      ]
    },
    {
      "cell_type": "code",
      "execution_count": null,
      "metadata": {
        "id": "CZUOxw87y6so"
      },
      "outputs": [],
      "source": []
    },
    {
      "cell_type": "code",
      "execution_count": null,
      "metadata": {
        "id": "Tf1fprAVy6so"
      },
      "outputs": [],
      "source": [
        "# difference_update\n",
        "\n",
        "set1 = {\"apple\", \"banana\", \"cherry\"}\n",
        "set2 = {\"pineapple\", \"apple\"}\n",
        "\n",
        "set1.difference_update(set2)\n",
        "\n",
        "print(set1)"
      ]
    },
    {
      "cell_type": "code",
      "execution_count": null,
      "metadata": {
        "id": "myHgYHOoy6sp"
      },
      "outputs": [],
      "source": [
        "set1 = {\"apple\", \"banana\", \"cherry\"}\n",
        "set2 = {\"pineapple\", \"apple\"}\n",
        "\n",
        "print(id(set1))\n",
        "set1.difference_update(set2)\n",
        "\n",
        "print(set1)\n",
        "print(id(set1))"
      ]
    },
    {
      "cell_type": "code",
      "execution_count": null,
      "metadata": {
        "id": "RFZZ_ggqy6sp"
      },
      "outputs": [],
      "source": []
    },
    {
      "cell_type": "code",
      "execution_count": null,
      "metadata": {
        "id": "d9e7gpE0y6sp"
      },
      "outputs": [],
      "source": [
        "# symmetric_difference\n",
        "\n",
        "set1 = {\"apple\", \"banana\", \"cherry\"}\n",
        "set2 = {\"pineapple\", \"apple\"}\n",
        "\n",
        "set3 = set1.symmetric_difference(set2)\n",
        "\n",
        "print(set3)"
      ]
    },
    {
      "cell_type": "code",
      "execution_count": null,
      "metadata": {
        "id": "ES33D7WRy6sp"
      },
      "outputs": [],
      "source": []
    },
    {
      "cell_type": "code",
      "execution_count": null,
      "metadata": {
        "id": "YR3tPrq6y6sp"
      },
      "outputs": [],
      "source": [
        "# symmetric_difference_update\n",
        "\n",
        "set1 = {\"apple\", \"banana\", \"cherry\"}\n",
        "set2 = {\"pineapple\", \"apple\"}\n",
        "\n",
        "set1.symmetric_difference_update(set2)\n",
        "\n",
        "print(set1)"
      ]
    },
    {
      "cell_type": "code",
      "execution_count": null,
      "metadata": {
        "id": "g3pNM0Cvy6sp"
      },
      "outputs": [],
      "source": []
    },
    {
      "cell_type": "code",
      "execution_count": null,
      "metadata": {
        "id": "2uI88pINy6sp"
      },
      "outputs": [],
      "source": [
        "# AND (&)\n",
        "\n",
        "set1 = {1, 2, 3}\n",
        "set2 = {3, 4, 5}\n",
        "\n",
        "print(set1 & set2)"
      ]
    },
    {
      "cell_type": "code",
      "execution_count": null,
      "metadata": {
        "id": "iDvmEaIUy6sp"
      },
      "outputs": [],
      "source": [
        "# OR (|)\n",
        "\n",
        "set1 = {1, 2, 3}\n",
        "set2 = {3, 4, 5}\n",
        "\n",
        "print(set1 | set2)"
      ]
    },
    {
      "cell_type": "code",
      "execution_count": null,
      "metadata": {
        "id": "Vz2sVGb-y6sp"
      },
      "outputs": [],
      "source": [
        "# XOR (^)\n",
        "\n",
        "set1 = {1, 2, 3}\n",
        "set2 = {3, 4, 5}\n",
        "\n",
        "print(set1 ^ set2)"
      ]
    },
    {
      "cell_type": "code",
      "execution_count": null,
      "metadata": {
        "id": "VeMGFXQqy6sp"
      },
      "outputs": [],
      "source": [
        "# subtraction (-)\n",
        "\n",
        "set1 = {1, 2, 3}\n",
        "set2 = {3, 4, 5}\n",
        "\n",
        "print(set1 - set2)"
      ]
    },
    {
      "cell_type": "code",
      "execution_count": null,
      "metadata": {
        "id": "_c1xdSrCy6st"
      },
      "outputs": [],
      "source": []
    },
    {
      "cell_type": "code",
      "execution_count": null,
      "metadata": {
        "id": "eGyjqQqTy6st"
      },
      "outputs": [],
      "source": [
        "# set comprehension\n",
        "\n",
        "aSet = {i*i for i in range(10)}\n",
        "print(aSet)"
      ]
    },
    {
      "cell_type": "code",
      "execution_count": null,
      "metadata": {
        "id": "kXm_NiAXy6st"
      },
      "outputs": [],
      "source": []
    },
    {
      "cell_type": "markdown",
      "metadata": {
        "id": "9P2hdckUy6st"
      },
      "source": [
        "## Conversion"
      ]
    },
    {
      "cell_type": "code",
      "execution_count": null,
      "metadata": {
        "id": "WdCh0LNay6st"
      },
      "outputs": [],
      "source": [
        "# convert from set to list\n",
        "aSet = {1, 2, 3, 4, 5}\n",
        "\n",
        "aList = list(aSet)\n",
        "print(aList)\n",
        "print(type(aList))"
      ]
    },
    {
      "cell_type": "code",
      "execution_count": null,
      "metadata": {
        "id": "rElzRjSGy6su"
      },
      "outputs": [],
      "source": [
        "# convert from set to tuple\n",
        "aSet = {1, 2, 3, 4, 5}\n",
        "\n",
        "aTuple = tuple(aSet)\n",
        "print(aTuple)\n",
        "print(type(aTuple))"
      ]
    },
    {
      "cell_type": "code",
      "execution_count": null,
      "metadata": {
        "id": "lEmCRlYjy6su"
      },
      "outputs": [],
      "source": []
    },
    {
      "cell_type": "code",
      "execution_count": null,
      "metadata": {
        "id": "plvxVhDXy6su"
      },
      "outputs": [],
      "source": [
        "# convert from list to set\n",
        "aList = [1, 2, 3, 2, 1]\n",
        "\n",
        "aSet = set(aList)\n",
        "print(aSet)\n",
        "print(type(aSet))"
      ]
    },
    {
      "cell_type": "code",
      "execution_count": null,
      "metadata": {
        "id": "QHn1cez4y6su"
      },
      "outputs": [],
      "source": [
        "# convert from tuple to set\n",
        "aTuple = (1, 2, 3, 2, 1)\n",
        "\n",
        "aSet = set(aTuple)\n",
        "print(aSet)\n",
        "print(type(aSet))"
      ]
    },
    {
      "cell_type": "code",
      "execution_count": null,
      "metadata": {
        "id": "5zmnyD8Py6su"
      },
      "outputs": [],
      "source": []
    },
    {
      "cell_type": "markdown",
      "metadata": {
        "id": "i1keUU_xy6su"
      },
      "source": [
        "## Application"
      ]
    },
    {
      "cell_type": "code",
      "execution_count": null,
      "metadata": {
        "id": "0vuVxQ4cy6su",
        "outputId": "a09968b5-3822-40a1-efad-f609380286a5"
      },
      "outputs": [
        {
          "name": "stdout",
          "output_type": "stream",
          "text": [
            "Python is a high-level, interpreted, general-purpose programming language. Its design philosophy emphasizes code readability with the use of significant indentation. Python is dynamically-typed and garbage-collected.  It supports multiple programming paradigms, including structured, object-oriented and functional programming.\n"
          ]
        }
      ],
      "source": [
        "# kết nối với file\n",
        "a_file = open('data.txt','r')\n",
        "\n",
        "# read content\n",
        "data = a_file.read()\n",
        "print(data)\n",
        "\n",
        "# Đóng kết nối với file\n",
        "a_file.close()"
      ]
    },
    {
      "cell_type": "code",
      "execution_count": null,
      "metadata": {
        "id": "LWGjIS9ky6sv",
        "outputId": "ea9e1105-b6dd-46db-d639-0cc59b19b3fa"
      },
      "outputs": [
        {
          "name": "stdout",
          "output_type": "stream",
          "text": [
            "Python is a high-level, interpreted, general-purpose programming language Its design philosophy emphasizes code readability with the use of significant indentation Python is dynamically-typed and garbage-collected  It supports multiple programming paradigms, including structured, object-oriented and functional programming\n"
          ]
        }
      ],
      "source": [
        "data = data.replace('.', '')\n",
        "print(data)"
      ]
    },
    {
      "cell_type": "code",
      "execution_count": null,
      "metadata": {
        "id": "Hhv1X8J1y6sv",
        "outputId": "7583c382-fff8-4cb6-9a18-b55e1afe8f2e"
      },
      "outputs": [
        {
          "name": "stdout",
          "output_type": "stream",
          "text": [
            "Python is a high-level interpreted general-purpose programming language Its design philosophy emphasizes code readability with the use of significant indentation Python is dynamically-typed and garbage-collected  It supports multiple programming paradigms including structured object-oriented and functional programming\n"
          ]
        }
      ],
      "source": [
        "data = data.replace(',', '')\n",
        "print(data)"
      ]
    },
    {
      "cell_type": "code",
      "execution_count": null,
      "metadata": {
        "id": "A1aLd-JVy6sv",
        "outputId": "8f32a930-5c63-4ec6-de62-b90aea9fc500"
      },
      "outputs": [
        {
          "name": "stdout",
          "output_type": "stream",
          "text": [
            "Python is a high level interpreted general purpose programming language Its design philosophy emphasizes code readability with the use of significant indentation Python is dynamically typed and garbage collected  It supports multiple programming paradigms including structured object oriented and functional programming\n"
          ]
        }
      ],
      "source": [
        "data = data.replace('-', ' ')\n",
        "print(data)"
      ]
    },
    {
      "cell_type": "code",
      "execution_count": null,
      "metadata": {
        "id": "S7cbwhAGy6sv",
        "outputId": "ebebd052-4b23-4593-f1d8-712c086f00df"
      },
      "outputs": [
        {
          "name": "stdout",
          "output_type": "stream",
          "text": [
            "python is a high level interpreted general purpose programming language its design philosophy emphasizes code readability with the use of significant indentation python is dynamically typed and garbage collected  it supports multiple programming paradigms including structured object oriented and functional programming\n"
          ]
        }
      ],
      "source": [
        "data = data.lower()\n",
        "print(data)"
      ]
    },
    {
      "cell_type": "code",
      "execution_count": null,
      "metadata": {
        "id": "4WE_x8a4y6sv",
        "outputId": "d39ba97d-e922-4f6d-8faf-9d2a107b740e"
      },
      "outputs": [
        {
          "name": "stdout",
          "output_type": "stream",
          "text": [
            "['python', 'is', 'a', 'high', 'level', 'interpreted', 'general', 'purpose', 'programming', 'language', 'its', 'design', 'philosophy', 'emphasizes', 'code', 'readability', 'with', 'the', 'use', 'of', 'significant', 'indentation', 'python', 'is', 'dynamically', 'typed', 'and', 'garbage', 'collected', 'it', 'supports', 'multiple', 'programming', 'paradigms', 'including', 'structured', 'object', 'oriented', 'and', 'functional', 'programming']\n",
            "41\n"
          ]
        }
      ],
      "source": [
        "data = data.split()\n",
        "print(data)\n",
        "print(len(data))"
      ]
    },
    {
      "cell_type": "code",
      "execution_count": null,
      "metadata": {
        "id": "vvW4ceIXy6sv",
        "outputId": "bb9aaeb8-ba9d-4f80-f8f7-beaa2b90ffc0"
      },
      "outputs": [
        {
          "name": "stdout",
          "output_type": "stream",
          "text": [
            "{'its', 'indentation', 'collected', 'supports', 'is', 'programming', 'garbage', 'purpose', 'it', 'including', 'and', 'typed', 'interpreted', 'dynamically', 'multiple', 'python', 'functional', 'readability', 'general', 'with', 'philosophy', 'object', 'level', 'paradigms', 'design', 'a', 'the', 'oriented', 'emphasizes', 'high', 'significant', 'structured', 'language', 'code', 'use', 'of'}\n",
            "36\n"
          ]
        }
      ],
      "source": [
        "data = set(data)\n",
        "print(data)\n",
        "print(len(data))"
      ]
    },
    {
      "cell_type": "code",
      "execution_count": null,
      "metadata": {
        "id": "t6ITMelHy6sv",
        "outputId": "85c8b265-659c-4c19-a6a8-31482176faa6"
      },
      "outputs": [
        {
          "name": "stdout",
          "output_type": "stream",
          "text": [
            "0 its\n",
            "1 indentation\n",
            "2 collected\n",
            "3 supports\n",
            "4 is\n",
            "5 programming\n",
            "6 garbage\n",
            "7 purpose\n",
            "8 it\n",
            "9 including\n",
            "10 and\n",
            "11 typed\n",
            "12 interpreted\n",
            "13 dynamically\n",
            "14 multiple\n",
            "15 python\n",
            "16 functional\n",
            "17 readability\n",
            "18 general\n",
            "19 with\n",
            "20 philosophy\n",
            "21 object\n",
            "22 level\n",
            "23 paradigms\n",
            "24 design\n",
            "25 a\n",
            "26 the\n",
            "27 oriented\n",
            "28 emphasizes\n",
            "29 high\n",
            "30 significant\n",
            "31 structured\n",
            "32 language\n",
            "33 code\n",
            "34 use\n",
            "35 of\n"
          ]
        }
      ],
      "source": [
        "for index, value in enumerate(data):\n",
        "    print(index, value)"
      ]
    },
    {
      "cell_type": "code",
      "execution_count": null,
      "metadata": {
        "id": "_hqto_UAy6sw"
      },
      "outputs": [],
      "source": []
    }
  ],
  "metadata": {
    "kernelspec": {
      "display_name": "Python 3 (ipykernel)",
      "language": "python",
      "name": "python3"
    },
    "language_info": {
      "codemirror_mode": {
        "name": "ipython",
        "version": 3
      },
      "file_extension": ".py",
      "mimetype": "text/x-python",
      "name": "python",
      "nbconvert_exporter": "python",
      "pygments_lexer": "ipython3",
      "version": "3.9.12"
    },
    "colab": {
      "provenance": [],
      "include_colab_link": true
    }
  },
  "nbformat": 4,
  "nbformat_minor": 0
}