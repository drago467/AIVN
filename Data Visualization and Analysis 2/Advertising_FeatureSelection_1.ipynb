{
  "cells": [
    {
      "cell_type": "markdown",
      "metadata": {
        "id": "view-in-github",
        "colab_type": "text"
      },
      "source": [
        "<a href=\"https://colab.research.google.com/github/drago467/AIVN/blob/master/Data%20Visualization%20and%20Analysis%202/Advertising_FeatureSelection_1.ipynb\" target=\"_parent\"><img src=\"https://colab.research.google.com/assets/colab-badge.svg\" alt=\"Open In Colab\"/></a>"
      ]
    },
    {
      "cell_type": "code",
      "execution_count": null,
      "id": "1a9f3a55",
      "metadata": {
        "id": "1a9f3a55",
        "outputId": "008fea49-3cc2-43f4-f900-ac2e65d93d7e"
      },
      "outputs": [
        {
          "name": "stdout",
          "output_type": "stream",
          "text": [
            "(200, 4)\n"
          ]
        },
        {
          "data": {
            "text/html": [
              "<div>\n",
              "<style scoped>\n",
              "    .dataframe tbody tr th:only-of-type {\n",
              "        vertical-align: middle;\n",
              "    }\n",
              "\n",
              "    .dataframe tbody tr th {\n",
              "        vertical-align: top;\n",
              "    }\n",
              "\n",
              "    .dataframe thead th {\n",
              "        text-align: right;\n",
              "    }\n",
              "</style>\n",
              "<table border=\"1\" class=\"dataframe\">\n",
              "  <thead>\n",
              "    <tr style=\"text-align: right;\">\n",
              "      <th></th>\n",
              "      <th>TV</th>\n",
              "      <th>Radio</th>\n",
              "      <th>Newspaper</th>\n",
              "      <th>Sales</th>\n",
              "    </tr>\n",
              "  </thead>\n",
              "  <tbody>\n",
              "    <tr>\n",
              "      <th>0</th>\n",
              "      <td>230.1</td>\n",
              "      <td>37.8</td>\n",
              "      <td>69.2</td>\n",
              "      <td>22.1</td>\n",
              "    </tr>\n",
              "    <tr>\n",
              "      <th>1</th>\n",
              "      <td>44.5</td>\n",
              "      <td>39.3</td>\n",
              "      <td>45.1</td>\n",
              "      <td>10.4</td>\n",
              "    </tr>\n",
              "    <tr>\n",
              "      <th>2</th>\n",
              "      <td>17.2</td>\n",
              "      <td>45.9</td>\n",
              "      <td>69.3</td>\n",
              "      <td>12.0</td>\n",
              "    </tr>\n",
              "    <tr>\n",
              "      <th>3</th>\n",
              "      <td>151.5</td>\n",
              "      <td>41.3</td>\n",
              "      <td>58.5</td>\n",
              "      <td>16.5</td>\n",
              "    </tr>\n",
              "    <tr>\n",
              "      <th>4</th>\n",
              "      <td>180.8</td>\n",
              "      <td>10.8</td>\n",
              "      <td>58.4</td>\n",
              "      <td>17.9</td>\n",
              "    </tr>\n",
              "  </tbody>\n",
              "</table>\n",
              "</div>"
            ],
            "text/plain": [
              "      TV  Radio  Newspaper  Sales\n",
              "0  230.1   37.8       69.2   22.1\n",
              "1   44.5   39.3       45.1   10.4\n",
              "2   17.2   45.9       69.3   12.0\n",
              "3  151.5   41.3       58.5   16.5\n",
              "4  180.8   10.8       58.4   17.9"
            ]
          },
          "execution_count": 2,
          "metadata": {},
          "output_type": "execute_result"
        }
      ],
      "source": [
        "import pandas as pd\n",
        "import matplotlib.pyplot as plt\n",
        "import numpy as np\n",
        "import seaborn as sns\n",
        "\n",
        "data = pd.read_csv('advertising.csv')\n",
        "print(data.shape)\n",
        "data.head()"
      ]
    },
    {
      "cell_type": "code",
      "execution_count": null,
      "id": "3f4cdc5a",
      "metadata": {
        "id": "3f4cdc5a",
        "outputId": "72c6b2d2-322e-40ae-c48a-cfe7fec948d7"
      },
      "outputs": [
        {
          "data": {
            "image/png": "[encoded data removed]",
            "text/plain": [
              "<Figure size 600x600 with 3 Axes>"
            ]
          },
          "metadata": {},
          "output_type": "display_data"
        }
      ],
      "source": [
        "sns.jointplot(x=\"Sales\", y=\"TV\",\n",
        "              data=data)\n",
        "plt.show()"
      ]
    },
    {
      "cell_type": "code",
      "execution_count": null,
      "id": "60dd8eca",
      "metadata": {
        "id": "60dd8eca"
      },
      "outputs": [],
      "source": []
    },
    {
      "cell_type": "code",
      "execution_count": null,
      "id": "871096f2",
      "metadata": {
        "id": "871096f2"
      },
      "outputs": [],
      "source": []
    },
    {
      "cell_type": "code",
      "execution_count": null,
      "id": "ec508d23",
      "metadata": {
        "id": "ec508d23"
      },
      "outputs": [],
      "source": []
    },
    {
      "cell_type": "code",
      "execution_count": null,
      "id": "7231ab8d",
      "metadata": {
        "id": "7231ab8d",
        "outputId": "49e75d55-71a5-4792-9add-cfdfce8b3a27"
      },
      "outputs": [
        {
          "name": "stdout",
          "output_type": "stream",
          "text": [
            "(200, 4)\n",
            "[[199.8   3.1  34.6  16.4]\n",
            " [ 80.2   0.    9.2  11.9]\n",
            " [ 74.7  49.4  45.7  14.7]\n",
            " [ 44.7  25.8  20.6  10.1]\n",
            " [147.3  23.9  19.1  14.6]]\n"
          ]
        }
      ],
      "source": [
        "import pandas as pd\n",
        "import numpy as np\n",
        "from numpy import genfromtxt\n",
        "import matplotlib.pyplot as plt\n",
        "%matplotlib qt\n",
        "np.random.seed(123)\n",
        "\n",
        "#data = genfromtxt('advertising.csv', delimiter=',', skip_header=1)\n",
        "data = pd.read_csv('advertising.csv').to_numpy()\n",
        "print(data.shape)\n",
        "\n",
        "np.random.shuffle(data)\n",
        "print(data[:5])"
      ]
    },
    {
      "cell_type": "code",
      "execution_count": null,
      "id": "60f96382",
      "metadata": {
        "id": "60f96382",
        "outputId": "3160e3a3-bfe6-4b46-fc93-fe63d5e32799"
      },
      "outputs": [
        {
          "name": "stdout",
          "output_type": "stream",
          "text": [
            "[[ 1.          0.44820007 -0.21543016 -0.10915486]\n",
            " [ 1.          0.0446913  -0.225889   -0.19484987]\n",
            " [ 1.          0.02613529 -0.05922233 -0.07170547]\n",
            " [ 1.         -0.07507928 -0.13884447 -0.15638833]\n",
            " [ 1.          0.27107456 -0.14525472 -0.16144906]]\n"
          ]
        }
      ],
      "source": [
        "x = data[:,:3]\n",
        "y = data[:,3:]\n",
        "\n",
        "max_value = np.max(x)\n",
        "min_value = np.min(x)\n",
        "avg = np.mean(x)\n",
        "x = (x-avg) / (max_value-min_value)\n",
        "\n",
        "x_b = np.c_[np.ones((200, 1)), x]\n",
        "print(x_b[:5])"
      ]
    },
    {
      "cell_type": "code",
      "execution_count": null,
      "id": "ecadfe4d",
      "metadata": {
        "id": "ecadfe4d",
        "outputId": "eaedaf58-086a-4490-d312-10a40689966c"
      },
      "outputs": [
        {
          "name": "stdout",
          "output_type": "stream",
          "text": [
            "x_train:  (150, 4)\n",
            "y_train:  (150, 1)\n",
            "x_test:  (50, 4)\n",
            "y_test:  (50, 1)\n"
          ]
        }
      ],
      "source": [
        "N = 150\n",
        "\n",
        "x_train = x_b[:N]\n",
        "y_train = y[:N]\n",
        "\n",
        "x_test = x_b[N:]\n",
        "y_test = y[N:]\n",
        "\n",
        "print('x_train: ', x_train.shape)\n",
        "print('y_train: ', y_train.shape)\n",
        "print('x_test: ', x_test.shape)\n",
        "print('y_test: ', y_test.shape)"
      ]
    },
    {
      "cell_type": "code",
      "execution_count": null,
      "id": "bae42cfb",
      "metadata": {
        "id": "bae42cfb"
      },
      "outputs": [],
      "source": []
    },
    {
      "cell_type": "markdown",
      "id": "8780a2fe",
      "metadata": {
        "id": "8780a2fe"
      },
      "source": [
        "## Train"
      ]
    },
    {
      "cell_type": "code",
      "execution_count": null,
      "id": "5a0df7f4",
      "metadata": {
        "id": "5a0df7f4"
      },
      "outputs": [],
      "source": [
        "n_iterations = 150\n",
        "learning_rate = 0.01\n",
        "\n",
        "# khởi tạo giá trị tham số\n",
        "thetas = np.random.randn(4, 1)\n",
        "thetas_path = [thetas]\n",
        "losses = []\n",
        "\n",
        "for i in range(n_iterations):\n",
        "    # tính output\n",
        "    output = x_train.dot(thetas)\n",
        "\n",
        "    # tính loss\n",
        "    loss = (output - y_train)**2\n",
        "\n",
        "    # tính đạo hàm cho loss\n",
        "    loss_grd = 2*(output - y_train)/N\n",
        "\n",
        "    # tính đạo hàm cho các tham số\n",
        "    gradients = x_train.T.dot(loss_grd)\n",
        "\n",
        "    # cập nhật tham số\n",
        "    thetas = thetas - learning_rate*gradients\n",
        "    thetas_path.append(thetas)\n",
        "\n",
        "    mean_loss = np.sum(loss)/N\n",
        "    losses.append(mean_loss)\n",
        "\n",
        "\n",
        "# in loss cho 100 sample đầu\n",
        "x_axis = list(range(n_iterations))\n",
        "plt.plot(x_axis,losses[:n_iterations], color=\"r\")\n",
        "plt.show()"
      ]
    },
    {
      "cell_type": "code",
      "execution_count": null,
      "id": "fe167b3c",
      "metadata": {
        "id": "fe167b3c",
        "outputId": "90f40e83-ffee-482a-97cc-f59ea0bc9f8a"
      },
      "outputs": [
        {
          "name": "stdout",
          "output_type": "stream",
          "text": [
            "[[12.35789638]\n",
            " [ 6.62060968]\n",
            " [-2.40250142]\n",
            " [-0.43880545]]\n",
            "Loss:  13.066889824670707\n"
          ]
        }
      ],
      "source": [
        "print(thetas)\n",
        "print('Loss: ', losses[-1])"
      ]
    },
    {
      "cell_type": "code",
      "execution_count": null,
      "id": "86ba3a09",
      "metadata": {
        "id": "86ba3a09"
      },
      "outputs": [],
      "source": []
    },
    {
      "cell_type": "code",
      "execution_count": null,
      "id": "faded8af",
      "metadata": {
        "id": "faded8af",
        "outputId": "8b706221-39fd-4ee0-fbca-07daa32b8b9f"
      },
      "outputs": [
        {
          "name": "stdout",
          "output_type": "stream",
          "text": [
            "Test Loss:  3.366459847540656\n"
          ]
        }
      ],
      "source": [
        "# test\n",
        "\n",
        "# tính output\n",
        "output = x_test.dot(thetas)\n",
        "\n",
        "# tính loss\n",
        "loss = np.abs(output - y_test)\n",
        "print('Test Loss: ', loss.mean())"
      ]
    },
    {
      "cell_type": "code",
      "execution_count": null,
      "id": "c08938de",
      "metadata": {
        "id": "c08938de"
      },
      "outputs": [],
      "source": []
    }
  ],
  "metadata": {
    "kernelspec": {
      "display_name": "Python 3 (ipykernel)",
      "language": "python",
      "name": "python3"
    },
    "language_info": {
      "codemirror_mode": {
        "name": "ipython",
        "version": 3
      },
      "file_extension": ".py",
      "mimetype": "text/x-python",
      "name": "python",
      "nbconvert_exporter": "python",
      "pygments_lexer": "ipython3",
      "version": "3.11.4"
    },
    "colab": {
      "provenance": [],
      "include_colab_link": true
    }
  },
  "nbformat": 4,
  "nbformat_minor": 5
}